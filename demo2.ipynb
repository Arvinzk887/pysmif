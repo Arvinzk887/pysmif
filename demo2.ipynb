{
 "cells": [
  {
   "cell_type": "code",
   "execution_count": 21,
   "metadata": {},
   "outputs": [],
   "source": [
    "# Import the openbb library\n",
    "from openbb import obb\n",
    "obb.user.preferences.output_type = \"dataframe\""
   ]
  },
  {
   "cell_type": "code",
   "execution_count": 22,
   "metadata": {},
   "outputs": [
    {
     "data": {
      "text/html": [
       "<div>\n",
       "<style scoped>\n",
       "    .dataframe tbody tr th:only-of-type {\n",
       "        vertical-align: middle;\n",
       "    }\n",
       "\n",
       "    .dataframe tbody tr th {\n",
       "        vertical-align: top;\n",
       "    }\n",
       "\n",
       "    .dataframe thead th {\n",
       "        text-align: right;\n",
       "    }\n",
       "</style>\n",
       "<table border=\"1\" class=\"dataframe\">\n",
       "  <thead>\n",
       "    <tr style=\"text-align: right;\">\n",
       "      <th></th>\n",
       "      <th>open</th>\n",
       "      <th>high</th>\n",
       "      <th>low</th>\n",
       "      <th>close</th>\n",
       "      <th>volume</th>\n",
       "    </tr>\n",
       "    <tr>\n",
       "      <th>date</th>\n",
       "      <th></th>\n",
       "      <th></th>\n",
       "      <th></th>\n",
       "      <th></th>\n",
       "      <th></th>\n",
       "    </tr>\n",
       "  </thead>\n",
       "  <tbody>\n",
       "    <tr>\n",
       "      <th>2024-01-02</th>\n",
       "      <td>4745.200195</td>\n",
       "      <td>4754.330078</td>\n",
       "      <td>4722.669922</td>\n",
       "      <td>4742.830078</td>\n",
       "      <td>3743050000</td>\n",
       "    </tr>\n",
       "    <tr>\n",
       "      <th>2024-01-03</th>\n",
       "      <td>4725.069824</td>\n",
       "      <td>4729.290039</td>\n",
       "      <td>4699.709961</td>\n",
       "      <td>4704.810059</td>\n",
       "      <td>3950760000</td>\n",
       "    </tr>\n",
       "    <tr>\n",
       "      <th>2024-01-04</th>\n",
       "      <td>4697.419922</td>\n",
       "      <td>4726.779785</td>\n",
       "      <td>4687.529785</td>\n",
       "      <td>4688.680176</td>\n",
       "      <td>3715480000</td>\n",
       "    </tr>\n",
       "    <tr>\n",
       "      <th>2024-01-05</th>\n",
       "      <td>4690.569824</td>\n",
       "      <td>4721.490234</td>\n",
       "      <td>4682.109863</td>\n",
       "      <td>4697.240234</td>\n",
       "      <td>3844370000</td>\n",
       "    </tr>\n",
       "    <tr>\n",
       "      <th>2024-01-08</th>\n",
       "      <td>4703.700195</td>\n",
       "      <td>4764.540039</td>\n",
       "      <td>4699.819824</td>\n",
       "      <td>4763.540039</td>\n",
       "      <td>3742320000</td>\n",
       "    </tr>\n",
       "    <tr>\n",
       "      <th>2024-01-09</th>\n",
       "      <td>4741.930176</td>\n",
       "      <td>4765.470215</td>\n",
       "      <td>4730.350098</td>\n",
       "      <td>4756.500000</td>\n",
       "      <td>3529960000</td>\n",
       "    </tr>\n",
       "    <tr>\n",
       "      <th>2024-01-10</th>\n",
       "      <td>4759.939941</td>\n",
       "      <td>4790.799805</td>\n",
       "      <td>4756.200195</td>\n",
       "      <td>4783.450195</td>\n",
       "      <td>3498680000</td>\n",
       "    </tr>\n",
       "    <tr>\n",
       "      <th>2024-01-11</th>\n",
       "      <td>4792.129883</td>\n",
       "      <td>4798.500000</td>\n",
       "      <td>4739.580078</td>\n",
       "      <td>4780.240234</td>\n",
       "      <td>3759890000</td>\n",
       "    </tr>\n",
       "    <tr>\n",
       "      <th>2024-01-12</th>\n",
       "      <td>4791.180176</td>\n",
       "      <td>4802.399902</td>\n",
       "      <td>4768.979980</td>\n",
       "      <td>4783.830078</td>\n",
       "      <td>3486340000</td>\n",
       "    </tr>\n",
       "    <tr>\n",
       "      <th>2024-01-16</th>\n",
       "      <td>4772.350098</td>\n",
       "      <td>4782.339844</td>\n",
       "      <td>4747.120117</td>\n",
       "      <td>4765.979980</td>\n",
       "      <td>4260550000</td>\n",
       "    </tr>\n",
       "    <tr>\n",
       "      <th>2024-01-17</th>\n",
       "      <td>4739.129883</td>\n",
       "      <td>4744.229980</td>\n",
       "      <td>4714.819824</td>\n",
       "      <td>4739.209961</td>\n",
       "      <td>3928600000</td>\n",
       "    </tr>\n",
       "    <tr>\n",
       "      <th>2024-01-18</th>\n",
       "      <td>4760.100098</td>\n",
       "      <td>4785.790039</td>\n",
       "      <td>4740.569824</td>\n",
       "      <td>4780.939941</td>\n",
       "      <td>4019000000</td>\n",
       "    </tr>\n",
       "    <tr>\n",
       "      <th>2024-01-19</th>\n",
       "      <td>4796.279785</td>\n",
       "      <td>4842.069824</td>\n",
       "      <td>4785.870117</td>\n",
       "      <td>4839.810059</td>\n",
       "      <td>4287200000</td>\n",
       "    </tr>\n",
       "    <tr>\n",
       "      <th>2024-01-22</th>\n",
       "      <td>4853.419922</td>\n",
       "      <td>4868.410156</td>\n",
       "      <td>4844.049805</td>\n",
       "      <td>4850.430176</td>\n",
       "      <td>4297610000</td>\n",
       "    </tr>\n",
       "    <tr>\n",
       "      <th>2024-01-23</th>\n",
       "      <td>4856.799805</td>\n",
       "      <td>4866.479980</td>\n",
       "      <td>4844.370117</td>\n",
       "      <td>4864.600098</td>\n",
       "      <td>3912800000</td>\n",
       "    </tr>\n",
       "    <tr>\n",
       "      <th>2024-01-24</th>\n",
       "      <td>4888.560059</td>\n",
       "      <td>4903.680176</td>\n",
       "      <td>4865.939941</td>\n",
       "      <td>4868.549805</td>\n",
       "      <td>4330030000</td>\n",
       "    </tr>\n",
       "    <tr>\n",
       "      <th>2024-01-25</th>\n",
       "      <td>4886.660156</td>\n",
       "      <td>4898.149902</td>\n",
       "      <td>4869.339844</td>\n",
       "      <td>4894.160156</td>\n",
       "      <td>4020430000</td>\n",
       "    </tr>\n",
       "    <tr>\n",
       "      <th>2024-01-26</th>\n",
       "      <td>4888.910156</td>\n",
       "      <td>4906.689941</td>\n",
       "      <td>4881.470215</td>\n",
       "      <td>4890.970215</td>\n",
       "      <td>3353400000</td>\n",
       "    </tr>\n",
       "    <tr>\n",
       "      <th>2024-01-29</th>\n",
       "      <td>4892.950195</td>\n",
       "      <td>4929.310059</td>\n",
       "      <td>4887.399902</td>\n",
       "      <td>4927.930176</td>\n",
       "      <td>3525160000</td>\n",
       "    </tr>\n",
       "    <tr>\n",
       "      <th>2024-01-30</th>\n",
       "      <td>4925.890137</td>\n",
       "      <td>4931.089844</td>\n",
       "      <td>4916.270020</td>\n",
       "      <td>4924.970215</td>\n",
       "      <td>3836130000</td>\n",
       "    </tr>\n",
       "    <tr>\n",
       "      <th>2024-01-31</th>\n",
       "      <td>4899.189941</td>\n",
       "      <td>4906.750000</td>\n",
       "      <td>4845.149902</td>\n",
       "      <td>4845.649902</td>\n",
       "      <td>4696120000</td>\n",
       "    </tr>\n",
       "  </tbody>\n",
       "</table>\n",
       "</div>"
      ],
      "text/plain": [
       "                   open         high          low        close      volume\n",
       "date                                                                      \n",
       "2024-01-02  4745.200195  4754.330078  4722.669922  4742.830078  3743050000\n",
       "2024-01-03  4725.069824  4729.290039  4699.709961  4704.810059  3950760000\n",
       "2024-01-04  4697.419922  4726.779785  4687.529785  4688.680176  3715480000\n",
       "2024-01-05  4690.569824  4721.490234  4682.109863  4697.240234  3844370000\n",
       "2024-01-08  4703.700195  4764.540039  4699.819824  4763.540039  3742320000\n",
       "2024-01-09  4741.930176  4765.470215  4730.350098  4756.500000  3529960000\n",
       "2024-01-10  4759.939941  4790.799805  4756.200195  4783.450195  3498680000\n",
       "2024-01-11  4792.129883  4798.500000  4739.580078  4780.240234  3759890000\n",
       "2024-01-12  4791.180176  4802.399902  4768.979980  4783.830078  3486340000\n",
       "2024-01-16  4772.350098  4782.339844  4747.120117  4765.979980  4260550000\n",
       "2024-01-17  4739.129883  4744.229980  4714.819824  4739.209961  3928600000\n",
       "2024-01-18  4760.100098  4785.790039  4740.569824  4780.939941  4019000000\n",
       "2024-01-19  4796.279785  4842.069824  4785.870117  4839.810059  4287200000\n",
       "2024-01-22  4853.419922  4868.410156  4844.049805  4850.430176  4297610000\n",
       "2024-01-23  4856.799805  4866.479980  4844.370117  4864.600098  3912800000\n",
       "2024-01-24  4888.560059  4903.680176  4865.939941  4868.549805  4330030000\n",
       "2024-01-25  4886.660156  4898.149902  4869.339844  4894.160156  4020430000\n",
       "2024-01-26  4888.910156  4906.689941  4881.470215  4890.970215  3353400000\n",
       "2024-01-29  4892.950195  4929.310059  4887.399902  4927.930176  3525160000\n",
       "2024-01-30  4925.890137  4931.089844  4916.270020  4924.970215  3836130000\n",
       "2024-01-31  4899.189941  4906.750000  4845.149902  4845.649902  4696120000"
      ]
     },
     "execution_count": 22,
     "metadata": {},
     "output_type": "execute_result"
    }
   ],
   "source": [
    "#Download the data for the S&P 500 index\n",
    "data = obb.index.price.historical(\"SPX\", start_date=\"2024-01-01\", end_date=\"2024-01-31\", provider = \"yfinance\")\n",
    "data"
   ]
  },
  {
   "cell_type": "code",
   "execution_count": 23,
   "metadata": {},
   "outputs": [
    {
     "data": {
      "text/html": [
       "        <script type=\"text/javascript\">\n",
       "        window.PlotlyConfig = {MathJaxConfig: 'local'};\n",
       "        if (window.MathJax && window.MathJax.Hub && window.MathJax.Hub.Config) {window.MathJax.Hub.Config({SVG: {font: \"STIX-Web\"}});}\n",
       "        if (typeof require !== 'undefined') {\n",
       "        require.undef(\"plotly\");\n",
       "        requirejs.config({\n",
       "            paths: {\n",
       "                'plotly': ['https://cdn.plot.ly/plotly-2.35.2.min']\n",
       "            }\n",
       "        });\n",
       "        require(['plotly'], function(Plotly) {\n",
       "            window._Plotly = Plotly;\n",
       "        });\n",
       "        }\n",
       "        </script>\n",
       "        "
      ]
     },
     "metadata": {},
     "output_type": "display_data"
    },
    {
     "data": {
      "application/vnd.plotly.v1+json": {
       "config": {
        "linkText": "Export to plot.ly",
        "plotlyServerURL": "https://plot.ly",
        "showLink": true
       },
       "data": [
        {
         "close": [
          4742.830078125,
          4704.81005859375,
          4688.68017578125,
          4697.240234375,
          4763.5400390625,
          4756.5,
          4783.4501953125,
          4780.240234375,
          4783.830078125,
          4765.97998046875,
          4739.2099609375,
          4780.93994140625,
          4839.81005859375,
          4850.43017578125,
          4864.60009765625,
          4868.5498046875,
          4894.16015625,
          4890.97021484375,
          4927.93017578125,
          4924.97021484375,
          4845.64990234375
         ],
         "high": [
          4754.330078125,
          4729.2900390625,
          4726.77978515625,
          4721.490234375,
          4764.5400390625,
          4765.47021484375,
          4790.7998046875,
          4798.5,
          4802.39990234375,
          4782.33984375,
          4744.22998046875,
          4785.7900390625,
          4842.06982421875,
          4868.41015625,
          4866.47998046875,
          4903.68017578125,
          4898.14990234375,
          4906.68994140625,
          4929.31005859375,
          4931.08984375,
          4906.75
         ],
         "low": [
          4722.669921875,
          4699.7099609375,
          4687.52978515625,
          4682.10986328125,
          4699.81982421875,
          4730.35009765625,
          4756.2001953125,
          4739.580078125,
          4768.97998046875,
          4747.1201171875,
          4714.81982421875,
          4740.56982421875,
          4785.8701171875,
          4844.0498046875,
          4844.3701171875,
          4865.93994140625,
          4869.33984375,
          4881.47021484375,
          4887.39990234375,
          4916.27001953125,
          4845.14990234375
         ],
         "open": [
          4745.2001953125,
          4725.06982421875,
          4697.419921875,
          4690.56982421875,
          4703.7001953125,
          4741.93017578125,
          4759.93994140625,
          4792.1298828125,
          4791.18017578125,
          4772.35009765625,
          4739.1298828125,
          4760.10009765625,
          4796.27978515625,
          4853.419921875,
          4856.7998046875,
          4888.56005859375,
          4886.66015625,
          4888.91015625,
          4892.9501953125,
          4925.89013671875,
          4899.18994140625
         ],
         "showlegend": false,
         "type": "candlestick",
         "x": [
          "2024-01-02",
          "2024-01-03",
          "2024-01-04",
          "2024-01-05",
          "2024-01-08",
          "2024-01-09",
          "2024-01-10",
          "2024-01-11",
          "2024-01-12",
          "2024-01-16",
          "2024-01-17",
          "2024-01-18",
          "2024-01-19",
          "2024-01-22",
          "2024-01-23",
          "2024-01-24",
          "2024-01-25",
          "2024-01-26",
          "2024-01-29",
          "2024-01-30",
          "2024-01-31"
         ],
         "yaxis": "y2"
        }
       ],
       "layout": {
        "legend": {
         "bgcolor": "#1A1A1C",
         "font": {
          "color": "#D9D9D9"
         }
        },
        "paper_bgcolor": "#1A1A1C",
        "plot_bgcolor": "#1A1A1C",
        "template": {
         "data": {
          "bar": [
           {
            "error_x": {
             "color": "#2a3f5f"
            },
            "error_y": {
             "color": "#2a3f5f"
            },
            "marker": {
             "line": {
              "color": "#E5ECF6",
              "width": 0.5
             },
             "pattern": {
              "fillmode": "overlay",
              "size": 10,
              "solidity": 0.2
             }
            },
            "type": "bar"
           }
          ],
          "barpolar": [
           {
            "marker": {
             "line": {
              "color": "#E5ECF6",
              "width": 0.5
             },
             "pattern": {
              "fillmode": "overlay",
              "size": 10,
              "solidity": 0.2
             }
            },
            "type": "barpolar"
           }
          ],
          "carpet": [
           {
            "aaxis": {
             "endlinecolor": "#2a3f5f",
             "gridcolor": "white",
             "linecolor": "white",
             "minorgridcolor": "white",
             "startlinecolor": "#2a3f5f"
            },
            "baxis": {
             "endlinecolor": "#2a3f5f",
             "gridcolor": "white",
             "linecolor": "white",
             "minorgridcolor": "white",
             "startlinecolor": "#2a3f5f"
            },
            "type": "carpet"
           }
          ],
          "choropleth": [
           {
            "colorbar": {
             "outlinewidth": 0,
             "ticks": ""
            },
            "type": "choropleth"
           }
          ],
          "contour": [
           {
            "colorbar": {
             "outlinewidth": 0,
             "ticks": ""
            },
            "colorscale": [
             [
              0,
              "#0d0887"
             ],
             [
              0.1111111111111111,
              "#46039f"
             ],
             [
              0.2222222222222222,
              "#7201a8"
             ],
             [
              0.3333333333333333,
              "#9c179e"
             ],
             [
              0.4444444444444444,
              "#bd3786"
             ],
             [
              0.5555555555555556,
              "#d8576b"
             ],
             [
              0.6666666666666666,
              "#ed7953"
             ],
             [
              0.7777777777777778,
              "#fb9f3a"
             ],
             [
              0.8888888888888888,
              "#fdca26"
             ],
             [
              1,
              "#f0f921"
             ]
            ],
            "type": "contour"
           }
          ],
          "contourcarpet": [
           {
            "colorbar": {
             "outlinewidth": 0,
             "ticks": ""
            },
            "type": "contourcarpet"
           }
          ],
          "heatmap": [
           {
            "colorbar": {
             "outlinewidth": 0,
             "ticks": ""
            },
            "colorscale": [
             [
              0,
              "#0d0887"
             ],
             [
              0.1111111111111111,
              "#46039f"
             ],
             [
              0.2222222222222222,
              "#7201a8"
             ],
             [
              0.3333333333333333,
              "#9c179e"
             ],
             [
              0.4444444444444444,
              "#bd3786"
             ],
             [
              0.5555555555555556,
              "#d8576b"
             ],
             [
              0.6666666666666666,
              "#ed7953"
             ],
             [
              0.7777777777777778,
              "#fb9f3a"
             ],
             [
              0.8888888888888888,
              "#fdca26"
             ],
             [
              1,
              "#f0f921"
             ]
            ],
            "type": "heatmap"
           }
          ],
          "heatmapgl": [
           {
            "colorbar": {
             "outlinewidth": 0,
             "ticks": ""
            },
            "colorscale": [
             [
              0,
              "#0d0887"
             ],
             [
              0.1111111111111111,
              "#46039f"
             ],
             [
              0.2222222222222222,
              "#7201a8"
             ],
             [
              0.3333333333333333,
              "#9c179e"
             ],
             [
              0.4444444444444444,
              "#bd3786"
             ],
             [
              0.5555555555555556,
              "#d8576b"
             ],
             [
              0.6666666666666666,
              "#ed7953"
             ],
             [
              0.7777777777777778,
              "#fb9f3a"
             ],
             [
              0.8888888888888888,
              "#fdca26"
             ],
             [
              1,
              "#f0f921"
             ]
            ],
            "type": "heatmapgl"
           }
          ],
          "histogram": [
           {
            "marker": {
             "pattern": {
              "fillmode": "overlay",
              "size": 10,
              "solidity": 0.2
             }
            },
            "type": "histogram"
           }
          ],
          "histogram2d": [
           {
            "colorbar": {
             "outlinewidth": 0,
             "ticks": ""
            },
            "colorscale": [
             [
              0,
              "#0d0887"
             ],
             [
              0.1111111111111111,
              "#46039f"
             ],
             [
              0.2222222222222222,
              "#7201a8"
             ],
             [
              0.3333333333333333,
              "#9c179e"
             ],
             [
              0.4444444444444444,
              "#bd3786"
             ],
             [
              0.5555555555555556,
              "#d8576b"
             ],
             [
              0.6666666666666666,
              "#ed7953"
             ],
             [
              0.7777777777777778,
              "#fb9f3a"
             ],
             [
              0.8888888888888888,
              "#fdca26"
             ],
             [
              1,
              "#f0f921"
             ]
            ],
            "type": "histogram2d"
           }
          ],
          "histogram2dcontour": [
           {
            "colorbar": {
             "outlinewidth": 0,
             "ticks": ""
            },
            "colorscale": [
             [
              0,
              "#0d0887"
             ],
             [
              0.1111111111111111,
              "#46039f"
             ],
             [
              0.2222222222222222,
              "#7201a8"
             ],
             [
              0.3333333333333333,
              "#9c179e"
             ],
             [
              0.4444444444444444,
              "#bd3786"
             ],
             [
              0.5555555555555556,
              "#d8576b"
             ],
             [
              0.6666666666666666,
              "#ed7953"
             ],
             [
              0.7777777777777778,
              "#fb9f3a"
             ],
             [
              0.8888888888888888,
              "#fdca26"
             ],
             [
              1,
              "#f0f921"
             ]
            ],
            "type": "histogram2dcontour"
           }
          ],
          "mesh3d": [
           {
            "colorbar": {
             "outlinewidth": 0,
             "ticks": ""
            },
            "type": "mesh3d"
           }
          ],
          "parcoords": [
           {
            "line": {
             "colorbar": {
              "outlinewidth": 0,
              "ticks": ""
             }
            },
            "type": "parcoords"
           }
          ],
          "pie": [
           {
            "automargin": true,
            "type": "pie"
           }
          ],
          "scatter": [
           {
            "fillpattern": {
             "fillmode": "overlay",
             "size": 10,
             "solidity": 0.2
            },
            "type": "scatter"
           }
          ],
          "scatter3d": [
           {
            "line": {
             "colorbar": {
              "outlinewidth": 0,
              "ticks": ""
             }
            },
            "marker": {
             "colorbar": {
              "outlinewidth": 0,
              "ticks": ""
             }
            },
            "type": "scatter3d"
           }
          ],
          "scattercarpet": [
           {
            "marker": {
             "colorbar": {
              "outlinewidth": 0,
              "ticks": ""
             }
            },
            "type": "scattercarpet"
           }
          ],
          "scattergeo": [
           {
            "marker": {
             "colorbar": {
              "outlinewidth": 0,
              "ticks": ""
             }
            },
            "type": "scattergeo"
           }
          ],
          "scattergl": [
           {
            "marker": {
             "colorbar": {
              "outlinewidth": 0,
              "ticks": ""
             }
            },
            "type": "scattergl"
           }
          ],
          "scattermapbox": [
           {
            "marker": {
             "colorbar": {
              "outlinewidth": 0,
              "ticks": ""
             }
            },
            "type": "scattermapbox"
           }
          ],
          "scatterpolar": [
           {
            "marker": {
             "colorbar": {
              "outlinewidth": 0,
              "ticks": ""
             }
            },
            "type": "scatterpolar"
           }
          ],
          "scatterpolargl": [
           {
            "marker": {
             "colorbar": {
              "outlinewidth": 0,
              "ticks": ""
             }
            },
            "type": "scatterpolargl"
           }
          ],
          "scatterternary": [
           {
            "marker": {
             "colorbar": {
              "outlinewidth": 0,
              "ticks": ""
             }
            },
            "type": "scatterternary"
           }
          ],
          "surface": [
           {
            "colorbar": {
             "outlinewidth": 0,
             "ticks": ""
            },
            "colorscale": [
             [
              0,
              "#0d0887"
             ],
             [
              0.1111111111111111,
              "#46039f"
             ],
             [
              0.2222222222222222,
              "#7201a8"
             ],
             [
              0.3333333333333333,
              "#9c179e"
             ],
             [
              0.4444444444444444,
              "#bd3786"
             ],
             [
              0.5555555555555556,
              "#d8576b"
             ],
             [
              0.6666666666666666,
              "#ed7953"
             ],
             [
              0.7777777777777778,
              "#fb9f3a"
             ],
             [
              0.8888888888888888,
              "#fdca26"
             ],
             [
              1,
              "#f0f921"
             ]
            ],
            "type": "surface"
           }
          ],
          "table": [
           {
            "cells": {
             "fill": {
              "color": "#EBF0F8"
             },
             "line": {
              "color": "white"
             }
            },
            "header": {
             "fill": {
              "color": "#C8D4E3"
             },
             "line": {
              "color": "white"
             }
            },
            "type": "table"
           }
          ]
         },
         "layout": {
          "annotationdefaults": {
           "arrowcolor": "#2a3f5f",
           "arrowhead": 0,
           "arrowwidth": 1
          },
          "autotypenumbers": "strict",
          "coloraxis": {
           "colorbar": {
            "outlinewidth": 0,
            "ticks": ""
           }
          },
          "colorscale": {
           "diverging": [
            [
             0,
             "#8e0152"
            ],
            [
             0.1,
             "#c51b7d"
            ],
            [
             0.2,
             "#de77ae"
            ],
            [
             0.3,
             "#f1b6da"
            ],
            [
             0.4,
             "#fde0ef"
            ],
            [
             0.5,
             "#f7f7f7"
            ],
            [
             0.6,
             "#e6f5d0"
            ],
            [
             0.7,
             "#b8e186"
            ],
            [
             0.8,
             "#7fbc41"
            ],
            [
             0.9,
             "#4d9221"
            ],
            [
             1,
             "#276419"
            ]
           ],
           "sequential": [
            [
             0,
             "#0d0887"
            ],
            [
             0.1111111111111111,
             "#46039f"
            ],
            [
             0.2222222222222222,
             "#7201a8"
            ],
            [
             0.3333333333333333,
             "#9c179e"
            ],
            [
             0.4444444444444444,
             "#bd3786"
            ],
            [
             0.5555555555555556,
             "#d8576b"
            ],
            [
             0.6666666666666666,
             "#ed7953"
            ],
            [
             0.7777777777777778,
             "#fb9f3a"
            ],
            [
             0.8888888888888888,
             "#fdca26"
            ],
            [
             1,
             "#f0f921"
            ]
           ],
           "sequentialminus": [
            [
             0,
             "#0d0887"
            ],
            [
             0.1111111111111111,
             "#46039f"
            ],
            [
             0.2222222222222222,
             "#7201a8"
            ],
            [
             0.3333333333333333,
             "#9c179e"
            ],
            [
             0.4444444444444444,
             "#bd3786"
            ],
            [
             0.5555555555555556,
             "#d8576b"
            ],
            [
             0.6666666666666666,
             "#ed7953"
            ],
            [
             0.7777777777777778,
             "#fb9f3a"
            ],
            [
             0.8888888888888888,
             "#fdca26"
            ],
            [
             1,
             "#f0f921"
            ]
           ]
          },
          "colorway": [
           "#636efa",
           "#EF553B",
           "#00cc96",
           "#ab63fa",
           "#FFA15A",
           "#19d3f3",
           "#FF6692",
           "#B6E880",
           "#FF97FF",
           "#FECB52"
          ],
          "font": {
           "color": "#2a3f5f"
          },
          "geo": {
           "bgcolor": "white",
           "lakecolor": "white",
           "landcolor": "#E5ECF6",
           "showlakes": true,
           "showland": true,
           "subunitcolor": "white"
          },
          "hoverlabel": {
           "align": "left"
          },
          "hovermode": "closest",
          "mapbox": {
           "style": "light"
          },
          "paper_bgcolor": "white",
          "plot_bgcolor": "#E5ECF6",
          "polar": {
           "angularaxis": {
            "gridcolor": "white",
            "linecolor": "white",
            "ticks": ""
           },
           "bgcolor": "#E5ECF6",
           "radialaxis": {
            "gridcolor": "white",
            "linecolor": "white",
            "ticks": ""
           }
          },
          "scene": {
           "xaxis": {
            "backgroundcolor": "#E5ECF6",
            "gridcolor": "white",
            "gridwidth": 2,
            "linecolor": "white",
            "showbackground": true,
            "ticks": "",
            "zerolinecolor": "white"
           },
           "yaxis": {
            "backgroundcolor": "#E5ECF6",
            "gridcolor": "white",
            "gridwidth": 2,
            "linecolor": "white",
            "showbackground": true,
            "ticks": "",
            "zerolinecolor": "white"
           },
           "zaxis": {
            "backgroundcolor": "#E5ECF6",
            "gridcolor": "white",
            "gridwidth": 2,
            "linecolor": "white",
            "showbackground": true,
            "ticks": "",
            "zerolinecolor": "white"
           }
          },
          "shapedefaults": {
           "line": {
            "color": "#2a3f5f"
           }
          },
          "ternary": {
           "aaxis": {
            "gridcolor": "white",
            "linecolor": "white",
            "ticks": ""
           },
           "baxis": {
            "gridcolor": "white",
            "linecolor": "white",
            "ticks": ""
           },
           "bgcolor": "#E5ECF6",
           "caxis": {
            "gridcolor": "white",
            "linecolor": "white",
            "ticks": ""
           }
          },
          "title": {
           "x": 0.05
          },
          "xaxis": {
           "automargin": true,
           "gridcolor": "white",
           "linecolor": "white",
           "ticks": "",
           "title": {
            "standoff": 15
           },
           "zerolinecolor": "white",
           "zerolinewidth": 2
          },
          "yaxis": {
           "automargin": true,
           "gridcolor": "white",
           "linecolor": "white",
           "ticks": "",
           "title": {
            "standoff": 15
           },
           "zerolinecolor": "white",
           "zerolinewidth": 2
          }
         }
        },
        "title": {
         "font": {
          "color": "#D9D9D9"
         },
         "text": "S&P 500 Index Candlestick Chart"
        },
        "xaxis": {
         "gridcolor": "#434343",
         "rangeslider": {
          "visible": false
         },
         "showgrid": true,
         "tickfont": {
          "color": "#C2C2C2"
         },
         "title": {
          "font": {
           "color": "#D9D9D9"
          },
          "text": ""
         },
         "zerolinecolor": "#666570"
        },
        "yaxis": {
         "gridcolor": "#434343",
         "showgrid": true,
         "showticklabels": false,
         "tickfont": {
          "color": "#C2C2C2"
         },
         "title": {
          "font": {
           "color": "#D9D9D9"
          },
          "text": ""
         },
         "zerolinecolor": "#666570"
        },
        "yaxis2": {
         "gridcolor": "#434343",
         "showgrid": true,
         "tickfont": {
          "color": "#C2C2C2"
         },
         "title": {
          "font": {
           "color": "#D9D9D9"
          },
          "text": ""
         },
         "zerolinecolor": "#666570"
        }
       }
      },
      "text/html": [
       "<div>                            <div id=\"a10ada9a-4b92-4419-88e3-17823ad27774\" class=\"plotly-graph-div\" style=\"height:525px; width:100%;\"></div>            <script type=\"text/javascript\">                require([\"plotly\"], function(Plotly) {                    window.PLOTLYENV=window.PLOTLYENV || {};\n",
       "                    window.PLOTLYENV.BASE_URL='https://plot.ly';                                    if (document.getElementById(\"a10ada9a-4b92-4419-88e3-17823ad27774\")) {                    Plotly.newPlot(                        \"a10ada9a-4b92-4419-88e3-17823ad27774\",                        [{\"close\":[4742.830078125,4704.81005859375,4688.68017578125,4697.240234375,4763.5400390625,4756.5,4783.4501953125,4780.240234375,4783.830078125,4765.97998046875,4739.2099609375,4780.93994140625,4839.81005859375,4850.43017578125,4864.60009765625,4868.5498046875,4894.16015625,4890.97021484375,4927.93017578125,4924.97021484375,4845.64990234375],\"high\":[4754.330078125,4729.2900390625,4726.77978515625,4721.490234375,4764.5400390625,4765.47021484375,4790.7998046875,4798.5,4802.39990234375,4782.33984375,4744.22998046875,4785.7900390625,4842.06982421875,4868.41015625,4866.47998046875,4903.68017578125,4898.14990234375,4906.68994140625,4929.31005859375,4931.08984375,4906.75],\"low\":[4722.669921875,4699.7099609375,4687.52978515625,4682.10986328125,4699.81982421875,4730.35009765625,4756.2001953125,4739.580078125,4768.97998046875,4747.1201171875,4714.81982421875,4740.56982421875,4785.8701171875,4844.0498046875,4844.3701171875,4865.93994140625,4869.33984375,4881.47021484375,4887.39990234375,4916.27001953125,4845.14990234375],\"open\":[4745.2001953125,4725.06982421875,4697.419921875,4690.56982421875,4703.7001953125,4741.93017578125,4759.93994140625,4792.1298828125,4791.18017578125,4772.35009765625,4739.1298828125,4760.10009765625,4796.27978515625,4853.419921875,4856.7998046875,4888.56005859375,4886.66015625,4888.91015625,4892.9501953125,4925.89013671875,4899.18994140625],\"showlegend\":false,\"x\":[\"2024-01-02\",\"2024-01-03\",\"2024-01-04\",\"2024-01-05\",\"2024-01-08\",\"2024-01-09\",\"2024-01-10\",\"2024-01-11\",\"2024-01-12\",\"2024-01-16\",\"2024-01-17\",\"2024-01-18\",\"2024-01-19\",\"2024-01-22\",\"2024-01-23\",\"2024-01-24\",\"2024-01-25\",\"2024-01-26\",\"2024-01-29\",\"2024-01-30\",\"2024-01-31\"],\"yaxis\":\"y2\",\"type\":\"candlestick\"}],                        {\"legend\":{\"bgcolor\":\"#1A1A1C\",\"font\":{\"color\":\"#D9D9D9\"}},\"paper_bgcolor\":\"#1A1A1C\",\"plot_bgcolor\":\"#1A1A1C\",\"template\":{\"data\":{\"barpolar\":[{\"marker\":{\"line\":{\"color\":\"#E5ECF6\",\"width\":0.5},\"pattern\":{\"fillmode\":\"overlay\",\"size\":10,\"solidity\":0.2}},\"type\":\"barpolar\"}],\"bar\":[{\"error_x\":{\"color\":\"#2a3f5f\"},\"error_y\":{\"color\":\"#2a3f5f\"},\"marker\":{\"line\":{\"color\":\"#E5ECF6\",\"width\":0.5},\"pattern\":{\"fillmode\":\"overlay\",\"size\":10,\"solidity\":0.2}},\"type\":\"bar\"}],\"carpet\":[{\"aaxis\":{\"endlinecolor\":\"#2a3f5f\",\"gridcolor\":\"white\",\"linecolor\":\"white\",\"minorgridcolor\":\"white\",\"startlinecolor\":\"#2a3f5f\"},\"baxis\":{\"endlinecolor\":\"#2a3f5f\",\"gridcolor\":\"white\",\"linecolor\":\"white\",\"minorgridcolor\":\"white\",\"startlinecolor\":\"#2a3f5f\"},\"type\":\"carpet\"}],\"choropleth\":[{\"colorbar\":{\"outlinewidth\":0,\"ticks\":\"\"},\"type\":\"choropleth\"}],\"contourcarpet\":[{\"colorbar\":{\"outlinewidth\":0,\"ticks\":\"\"},\"type\":\"contourcarpet\"}],\"contour\":[{\"colorbar\":{\"outlinewidth\":0,\"ticks\":\"\"},\"colorscale\":[[0.0,\"#0d0887\"],[0.1111111111111111,\"#46039f\"],[0.2222222222222222,\"#7201a8\"],[0.3333333333333333,\"#9c179e\"],[0.4444444444444444,\"#bd3786\"],[0.5555555555555556,\"#d8576b\"],[0.6666666666666666,\"#ed7953\"],[0.7777777777777778,\"#fb9f3a\"],[0.8888888888888888,\"#fdca26\"],[1.0,\"#f0f921\"]],\"type\":\"contour\"}],\"heatmapgl\":[{\"colorbar\":{\"outlinewidth\":0,\"ticks\":\"\"},\"colorscale\":[[0.0,\"#0d0887\"],[0.1111111111111111,\"#46039f\"],[0.2222222222222222,\"#7201a8\"],[0.3333333333333333,\"#9c179e\"],[0.4444444444444444,\"#bd3786\"],[0.5555555555555556,\"#d8576b\"],[0.6666666666666666,\"#ed7953\"],[0.7777777777777778,\"#fb9f3a\"],[0.8888888888888888,\"#fdca26\"],[1.0,\"#f0f921\"]],\"type\":\"heatmapgl\"}],\"heatmap\":[{\"colorbar\":{\"outlinewidth\":0,\"ticks\":\"\"},\"colorscale\":[[0.0,\"#0d0887\"],[0.1111111111111111,\"#46039f\"],[0.2222222222222222,\"#7201a8\"],[0.3333333333333333,\"#9c179e\"],[0.4444444444444444,\"#bd3786\"],[0.5555555555555556,\"#d8576b\"],[0.6666666666666666,\"#ed7953\"],[0.7777777777777778,\"#fb9f3a\"],[0.8888888888888888,\"#fdca26\"],[1.0,\"#f0f921\"]],\"type\":\"heatmap\"}],\"histogram2dcontour\":[{\"colorbar\":{\"outlinewidth\":0,\"ticks\":\"\"},\"colorscale\":[[0.0,\"#0d0887\"],[0.1111111111111111,\"#46039f\"],[0.2222222222222222,\"#7201a8\"],[0.3333333333333333,\"#9c179e\"],[0.4444444444444444,\"#bd3786\"],[0.5555555555555556,\"#d8576b\"],[0.6666666666666666,\"#ed7953\"],[0.7777777777777778,\"#fb9f3a\"],[0.8888888888888888,\"#fdca26\"],[1.0,\"#f0f921\"]],\"type\":\"histogram2dcontour\"}],\"histogram2d\":[{\"colorbar\":{\"outlinewidth\":0,\"ticks\":\"\"},\"colorscale\":[[0.0,\"#0d0887\"],[0.1111111111111111,\"#46039f\"],[0.2222222222222222,\"#7201a8\"],[0.3333333333333333,\"#9c179e\"],[0.4444444444444444,\"#bd3786\"],[0.5555555555555556,\"#d8576b\"],[0.6666666666666666,\"#ed7953\"],[0.7777777777777778,\"#fb9f3a\"],[0.8888888888888888,\"#fdca26\"],[1.0,\"#f0f921\"]],\"type\":\"histogram2d\"}],\"histogram\":[{\"marker\":{\"pattern\":{\"fillmode\":\"overlay\",\"size\":10,\"solidity\":0.2}},\"type\":\"histogram\"}],\"mesh3d\":[{\"colorbar\":{\"outlinewidth\":0,\"ticks\":\"\"},\"type\":\"mesh3d\"}],\"parcoords\":[{\"line\":{\"colorbar\":{\"outlinewidth\":0,\"ticks\":\"\"}},\"type\":\"parcoords\"}],\"pie\":[{\"automargin\":true,\"type\":\"pie\"}],\"scatter3d\":[{\"line\":{\"colorbar\":{\"outlinewidth\":0,\"ticks\":\"\"}},\"marker\":{\"colorbar\":{\"outlinewidth\":0,\"ticks\":\"\"}},\"type\":\"scatter3d\"}],\"scattercarpet\":[{\"marker\":{\"colorbar\":{\"outlinewidth\":0,\"ticks\":\"\"}},\"type\":\"scattercarpet\"}],\"scattergeo\":[{\"marker\":{\"colorbar\":{\"outlinewidth\":0,\"ticks\":\"\"}},\"type\":\"scattergeo\"}],\"scattergl\":[{\"marker\":{\"colorbar\":{\"outlinewidth\":0,\"ticks\":\"\"}},\"type\":\"scattergl\"}],\"scattermapbox\":[{\"marker\":{\"colorbar\":{\"outlinewidth\":0,\"ticks\":\"\"}},\"type\":\"scattermapbox\"}],\"scatterpolargl\":[{\"marker\":{\"colorbar\":{\"outlinewidth\":0,\"ticks\":\"\"}},\"type\":\"scatterpolargl\"}],\"scatterpolar\":[{\"marker\":{\"colorbar\":{\"outlinewidth\":0,\"ticks\":\"\"}},\"type\":\"scatterpolar\"}],\"scatter\":[{\"fillpattern\":{\"fillmode\":\"overlay\",\"size\":10,\"solidity\":0.2},\"type\":\"scatter\"}],\"scatterternary\":[{\"marker\":{\"colorbar\":{\"outlinewidth\":0,\"ticks\":\"\"}},\"type\":\"scatterternary\"}],\"surface\":[{\"colorbar\":{\"outlinewidth\":0,\"ticks\":\"\"},\"colorscale\":[[0.0,\"#0d0887\"],[0.1111111111111111,\"#46039f\"],[0.2222222222222222,\"#7201a8\"],[0.3333333333333333,\"#9c179e\"],[0.4444444444444444,\"#bd3786\"],[0.5555555555555556,\"#d8576b\"],[0.6666666666666666,\"#ed7953\"],[0.7777777777777778,\"#fb9f3a\"],[0.8888888888888888,\"#fdca26\"],[1.0,\"#f0f921\"]],\"type\":\"surface\"}],\"table\":[{\"cells\":{\"fill\":{\"color\":\"#EBF0F8\"},\"line\":{\"color\":\"white\"}},\"header\":{\"fill\":{\"color\":\"#C8D4E3\"},\"line\":{\"color\":\"white\"}},\"type\":\"table\"}]},\"layout\":{\"annotationdefaults\":{\"arrowcolor\":\"#2a3f5f\",\"arrowhead\":0,\"arrowwidth\":1},\"autotypenumbers\":\"strict\",\"coloraxis\":{\"colorbar\":{\"outlinewidth\":0,\"ticks\":\"\"}},\"colorscale\":{\"diverging\":[[0,\"#8e0152\"],[0.1,\"#c51b7d\"],[0.2,\"#de77ae\"],[0.3,\"#f1b6da\"],[0.4,\"#fde0ef\"],[0.5,\"#f7f7f7\"],[0.6,\"#e6f5d0\"],[0.7,\"#b8e186\"],[0.8,\"#7fbc41\"],[0.9,\"#4d9221\"],[1,\"#276419\"]],\"sequential\":[[0.0,\"#0d0887\"],[0.1111111111111111,\"#46039f\"],[0.2222222222222222,\"#7201a8\"],[0.3333333333333333,\"#9c179e\"],[0.4444444444444444,\"#bd3786\"],[0.5555555555555556,\"#d8576b\"],[0.6666666666666666,\"#ed7953\"],[0.7777777777777778,\"#fb9f3a\"],[0.8888888888888888,\"#fdca26\"],[1.0,\"#f0f921\"]],\"sequentialminus\":[[0.0,\"#0d0887\"],[0.1111111111111111,\"#46039f\"],[0.2222222222222222,\"#7201a8\"],[0.3333333333333333,\"#9c179e\"],[0.4444444444444444,\"#bd3786\"],[0.5555555555555556,\"#d8576b\"],[0.6666666666666666,\"#ed7953\"],[0.7777777777777778,\"#fb9f3a\"],[0.8888888888888888,\"#fdca26\"],[1.0,\"#f0f921\"]]},\"colorway\":[\"#636efa\",\"#EF553B\",\"#00cc96\",\"#ab63fa\",\"#FFA15A\",\"#19d3f3\",\"#FF6692\",\"#B6E880\",\"#FF97FF\",\"#FECB52\"],\"font\":{\"color\":\"#2a3f5f\"},\"geo\":{\"bgcolor\":\"white\",\"lakecolor\":\"white\",\"landcolor\":\"#E5ECF6\",\"showlakes\":true,\"showland\":true,\"subunitcolor\":\"white\"},\"hoverlabel\":{\"align\":\"left\"},\"hovermode\":\"closest\",\"mapbox\":{\"style\":\"light\"},\"paper_bgcolor\":\"white\",\"plot_bgcolor\":\"#E5ECF6\",\"polar\":{\"angularaxis\":{\"gridcolor\":\"white\",\"linecolor\":\"white\",\"ticks\":\"\"},\"bgcolor\":\"#E5ECF6\",\"radialaxis\":{\"gridcolor\":\"white\",\"linecolor\":\"white\",\"ticks\":\"\"}},\"scene\":{\"xaxis\":{\"backgroundcolor\":\"#E5ECF6\",\"gridcolor\":\"white\",\"gridwidth\":2,\"linecolor\":\"white\",\"showbackground\":true,\"ticks\":\"\",\"zerolinecolor\":\"white\"},\"yaxis\":{\"backgroundcolor\":\"#E5ECF6\",\"gridcolor\":\"white\",\"gridwidth\":2,\"linecolor\":\"white\",\"showbackground\":true,\"ticks\":\"\",\"zerolinecolor\":\"white\"},\"zaxis\":{\"backgroundcolor\":\"#E5ECF6\",\"gridcolor\":\"white\",\"gridwidth\":2,\"linecolor\":\"white\",\"showbackground\":true,\"ticks\":\"\",\"zerolinecolor\":\"white\"}},\"shapedefaults\":{\"line\":{\"color\":\"#2a3f5f\"}},\"ternary\":{\"aaxis\":{\"gridcolor\":\"white\",\"linecolor\":\"white\",\"ticks\":\"\"},\"baxis\":{\"gridcolor\":\"white\",\"linecolor\":\"white\",\"ticks\":\"\"},\"bgcolor\":\"#E5ECF6\",\"caxis\":{\"gridcolor\":\"white\",\"linecolor\":\"white\",\"ticks\":\"\"}},\"title\":{\"x\":0.05},\"xaxis\":{\"automargin\":true,\"gridcolor\":\"white\",\"linecolor\":\"white\",\"ticks\":\"\",\"title\":{\"standoff\":15},\"zerolinecolor\":\"white\",\"zerolinewidth\":2},\"yaxis\":{\"automargin\":true,\"gridcolor\":\"white\",\"linecolor\":\"white\",\"ticks\":\"\",\"title\":{\"standoff\":15},\"zerolinecolor\":\"white\",\"zerolinewidth\":2}}},\"title\":{\"font\":{\"color\":\"#D9D9D9\"},\"text\":\"S&P 500 Index Candlestick Chart\"},\"xaxis\":{\"gridcolor\":\"#434343\",\"rangeslider\":{\"visible\":false},\"showgrid\":true,\"tickfont\":{\"color\":\"#C2C2C2\"},\"title\":{\"font\":{\"color\":\"#D9D9D9\"},\"text\":\"\"},\"zerolinecolor\":\"#666570\"},\"yaxis\":{\"gridcolor\":\"#434343\",\"showgrid\":true,\"showticklabels\":false,\"tickfont\":{\"color\":\"#C2C2C2\"},\"title\":{\"font\":{\"color\":\"#D9D9D9\"},\"text\":\"\"},\"zerolinecolor\":\"#666570\"},\"yaxis2\":{\"gridcolor\":\"#434343\",\"showgrid\":true,\"tickfont\":{\"color\":\"#C2C2C2\"},\"title\":{\"font\":{\"color\":\"#D9D9D9\"},\"text\":\"\"},\"zerolinecolor\":\"#666570\"}},                        {\"showLink\": true, \"linkText\": \"Export to plot.ly\", \"plotlyServerURL\": \"https://plot.ly\", \"responsive\": true}                    ).then(function(){\n",
       "                            \n",
       "var gd = document.getElementById('a10ada9a-4b92-4419-88e3-17823ad27774');\n",
       "var x = new MutationObserver(function (mutations, observer) {{\n",
       "        var display = window.getComputedStyle(gd).display;\n",
       "        if (!display || display === 'none') {{\n",
       "            console.log([gd, 'removed!']);\n",
       "            Plotly.purge(gd);\n",
       "            observer.disconnect();\n",
       "        }}\n",
       "}});\n",
       "\n",
       "// Listen for the removal of the full notebook cells\n",
       "var notebookContainer = gd.closest('#notebook-container');\n",
       "if (notebookContainer) {{\n",
       "    x.observe(notebookContainer, {childList: true});\n",
       "}}\n",
       "\n",
       "// Listen for the clearing of the current output cell\n",
       "var outputEl = gd.closest('.output');\n",
       "if (outputEl) {{\n",
       "    x.observe(outputEl, {childList: true});\n",
       "}}\n",
       "\n",
       "                        })                };                });            </script>        </div>"
      ]
     },
     "metadata": {},
     "output_type": "display_data"
    },
    {
     "data": {
      "image/png": "[encoded data removed]",
      "text/plain": [
       "<Figure size 640x480 with 1 Axes>"
      ]
     },
     "metadata": {},
     "output_type": "display_data"
    }
   ],
   "source": [
    "#Let's plot the data\n",
    "data.plot()\n",
    "\n",
    "# Let's plot a candlestick graph using Cufflinks library\n",
    "# Cufflinks is a powerful Python library that connects Pandas and Plotly for generating plots using few lines of code\n",
    "# Cufflinks allows for interactive data visualization\n",
    "\n",
    "import cufflinks as cf\n",
    "cf.go_offline()\n",
    "\n",
    "data.iplot(kind='candle', x='Date', open='open', high='high', low='low', close='close', \n",
    "           title='S&P 500 Index Candlestick Chart', theme='space')"
   ]
  },
  {
   "cell_type": "code",
   "execution_count": null,
   "metadata": {},
   "outputs": [],
   "source": [
    "from cufflinks import QuantFig\n",
    "\n",
    "# Create and plot the figure\n",
    "qf = QuantFig(data, title='S&P 500 Index Candlestick Chart', theme='space')\n",
    "qf.iplot()"
   ]
  },
  {
   "cell_type": "code",
   "execution_count": 24,
   "metadata": {},
   "outputs": [
    {
     "data": {
      "application/vnd.plotly.v1+json": {
       "config": {
        "plotlyServerURL": "https://plot.ly"
       },
       "data": [
        {
         "close": [
          4742.830078125,
          4704.81005859375,
          4688.68017578125,
          4697.240234375,
          4763.5400390625,
          4756.5,
          4783.4501953125,
          4780.240234375,
          4783.830078125,
          4765.97998046875,
          4739.2099609375,
          4780.93994140625,
          4839.81005859375,
          4850.43017578125,
          4864.60009765625,
          4868.5498046875,
          4894.16015625,
          4890.97021484375,
          4927.93017578125,
          4924.97021484375,
          4845.64990234375
         ],
         "high": [
          4754.330078125,
          4729.2900390625,
          4726.77978515625,
          4721.490234375,
          4764.5400390625,
          4765.47021484375,
          4790.7998046875,
          4798.5,
          4802.39990234375,
          4782.33984375,
          4744.22998046875,
          4785.7900390625,
          4842.06982421875,
          4868.41015625,
          4866.47998046875,
          4903.68017578125,
          4898.14990234375,
          4906.68994140625,
          4929.31005859375,
          4931.08984375,
          4906.75
         ],
         "low": [
          4722.669921875,
          4699.7099609375,
          4687.52978515625,
          4682.10986328125,
          4699.81982421875,
          4730.35009765625,
          4756.2001953125,
          4739.580078125,
          4768.97998046875,
          4747.1201171875,
          4714.81982421875,
          4740.56982421875,
          4785.8701171875,
          4844.0498046875,
          4844.3701171875,
          4865.93994140625,
          4869.33984375,
          4881.47021484375,
          4887.39990234375,
          4916.27001953125,
          4845.14990234375
         ],
         "open": [
          4745.2001953125,
          4725.06982421875,
          4697.419921875,
          4690.56982421875,
          4703.7001953125,
          4741.93017578125,
          4759.93994140625,
          4792.1298828125,
          4791.18017578125,
          4772.35009765625,
          4739.1298828125,
          4760.10009765625,
          4796.27978515625,
          4853.419921875,
          4856.7998046875,
          4888.56005859375,
          4886.66015625,
          4888.91015625,
          4892.9501953125,
          4925.89013671875,
          4899.18994140625
         ],
         "type": "candlestick",
         "x": [
          "2024-01-02",
          "2024-01-03",
          "2024-01-04",
          "2024-01-05",
          "2024-01-08",
          "2024-01-09",
          "2024-01-10",
          "2024-01-11",
          "2024-01-12",
          "2024-01-16",
          "2024-01-17",
          "2024-01-18",
          "2024-01-19",
          "2024-01-22",
          "2024-01-23",
          "2024-01-24",
          "2024-01-25",
          "2024-01-26",
          "2024-01-29",
          "2024-01-30",
          "2024-01-31"
         ]
        }
       ],
       "layout": {
        "template": {
         "data": {
          "bar": [
           {
            "error_x": {
             "color": "#f2f5fa"
            },
            "error_y": {
             "color": "#f2f5fa"
            },
            "marker": {
             "line": {
              "color": "rgb(17,17,17)",
              "width": 0.5
             },
             "pattern": {
              "fillmode": "overlay",
              "size": 10,
              "solidity": 0.2
             }
            },
            "type": "bar"
           }
          ],
          "barpolar": [
           {
            "marker": {
             "line": {
              "color": "rgb(17,17,17)",
              "width": 0.5
             },
             "pattern": {
              "fillmode": "overlay",
              "size": 10,
              "solidity": 0.2
             }
            },
            "type": "barpolar"
           }
          ],
          "carpet": [
           {
            "aaxis": {
             "endlinecolor": "#A2B1C6",
             "gridcolor": "#506784",
             "linecolor": "#506784",
             "minorgridcolor": "#506784",
             "startlinecolor": "#A2B1C6"
            },
            "baxis": {
             "endlinecolor": "#A2B1C6",
             "gridcolor": "#506784",
             "linecolor": "#506784",
             "minorgridcolor": "#506784",
             "startlinecolor": "#A2B1C6"
            },
            "type": "carpet"
           }
          ],
          "choropleth": [
           {
            "colorbar": {
             "outlinewidth": 0,
             "ticks": ""
            },
            "type": "choropleth"
           }
          ],
          "contour": [
           {
            "colorbar": {
             "outlinewidth": 0,
             "ticks": ""
            },
            "colorscale": [
             [
              0,
              "#0d0887"
             ],
             [
              0.1111111111111111,
              "#46039f"
             ],
             [
              0.2222222222222222,
              "#7201a8"
             ],
             [
              0.3333333333333333,
              "#9c179e"
             ],
             [
              0.4444444444444444,
              "#bd3786"
             ],
             [
              0.5555555555555556,
              "#d8576b"
             ],
             [
              0.6666666666666666,
              "#ed7953"
             ],
             [
              0.7777777777777778,
              "#fb9f3a"
             ],
             [
              0.8888888888888888,
              "#fdca26"
             ],
             [
              1,
              "#f0f921"
             ]
            ],
            "type": "contour"
           }
          ],
          "contourcarpet": [
           {
            "colorbar": {
             "outlinewidth": 0,
             "ticks": ""
            },
            "type": "contourcarpet"
           }
          ],
          "heatmap": [
           {
            "colorbar": {
             "outlinewidth": 0,
             "ticks": ""
            },
            "colorscale": [
             [
              0,
              "#0d0887"
             ],
             [
              0.1111111111111111,
              "#46039f"
             ],
             [
              0.2222222222222222,
              "#7201a8"
             ],
             [
              0.3333333333333333,
              "#9c179e"
             ],
             [
              0.4444444444444444,
              "#bd3786"
             ],
             [
              0.5555555555555556,
              "#d8576b"
             ],
             [
              0.6666666666666666,
              "#ed7953"
             ],
             [
              0.7777777777777778,
              "#fb9f3a"
             ],
             [
              0.8888888888888888,
              "#fdca26"
             ],
             [
              1,
              "#f0f921"
             ]
            ],
            "type": "heatmap"
           }
          ],
          "heatmapgl": [
           {
            "colorbar": {
             "outlinewidth": 0,
             "ticks": ""
            },
            "colorscale": [
             [
              0,
              "#0d0887"
             ],
             [
              0.1111111111111111,
              "#46039f"
             ],
             [
              0.2222222222222222,
              "#7201a8"
             ],
             [
              0.3333333333333333,
              "#9c179e"
             ],
             [
              0.4444444444444444,
              "#bd3786"
             ],
             [
              0.5555555555555556,
              "#d8576b"
             ],
             [
              0.6666666666666666,
              "#ed7953"
             ],
             [
              0.7777777777777778,
              "#fb9f3a"
             ],
             [
              0.8888888888888888,
              "#fdca26"
             ],
             [
              1,
              "#f0f921"
             ]
            ],
            "type": "heatmapgl"
           }
          ],
          "histogram": [
           {
            "marker": {
             "pattern": {
              "fillmode": "overlay",
              "size": 10,
              "solidity": 0.2
             }
            },
            "type": "histogram"
           }
          ],
          "histogram2d": [
           {
            "colorbar": {
             "outlinewidth": 0,
             "ticks": ""
            },
            "colorscale": [
             [
              0,
              "#0d0887"
             ],
             [
              0.1111111111111111,
              "#46039f"
             ],
             [
              0.2222222222222222,
              "#7201a8"
             ],
             [
              0.3333333333333333,
              "#9c179e"
             ],
             [
              0.4444444444444444,
              "#bd3786"
             ],
             [
              0.5555555555555556,
              "#d8576b"
             ],
             [
              0.6666666666666666,
              "#ed7953"
             ],
             [
              0.7777777777777778,
              "#fb9f3a"
             ],
             [
              0.8888888888888888,
              "#fdca26"
             ],
             [
              1,
              "#f0f921"
             ]
            ],
            "type": "histogram2d"
           }
          ],
          "histogram2dcontour": [
           {
            "colorbar": {
             "outlinewidth": 0,
             "ticks": ""
            },
            "colorscale": [
             [
              0,
              "#0d0887"
             ],
             [
              0.1111111111111111,
              "#46039f"
             ],
             [
              0.2222222222222222,
              "#7201a8"
             ],
             [
              0.3333333333333333,
              "#9c179e"
             ],
             [
              0.4444444444444444,
              "#bd3786"
             ],
             [
              0.5555555555555556,
              "#d8576b"
             ],
             [
              0.6666666666666666,
              "#ed7953"
             ],
             [
              0.7777777777777778,
              "#fb9f3a"
             ],
             [
              0.8888888888888888,
              "#fdca26"
             ],
             [
              1,
              "#f0f921"
             ]
            ],
            "type": "histogram2dcontour"
           }
          ],
          "mesh3d": [
           {
            "colorbar": {
             "outlinewidth": 0,
             "ticks": ""
            },
            "type": "mesh3d"
           }
          ],
          "parcoords": [
           {
            "line": {
             "colorbar": {
              "outlinewidth": 0,
              "ticks": ""
             }
            },
            "type": "parcoords"
           }
          ],
          "pie": [
           {
            "automargin": true,
            "type": "pie"
           }
          ],
          "scatter": [
           {
            "marker": {
             "line": {
              "color": "#283442"
             }
            },
            "type": "scatter"
           }
          ],
          "scatter3d": [
           {
            "line": {
             "colorbar": {
              "outlinewidth": 0,
              "ticks": ""
             }
            },
            "marker": {
             "colorbar": {
              "outlinewidth": 0,
              "ticks": ""
             }
            },
            "type": "scatter3d"
           }
          ],
          "scattercarpet": [
           {
            "marker": {
             "colorbar": {
              "outlinewidth": 0,
              "ticks": ""
             }
            },
            "type": "scattercarpet"
           }
          ],
          "scattergeo": [
           {
            "marker": {
             "colorbar": {
              "outlinewidth": 0,
              "ticks": ""
             }
            },
            "type": "scattergeo"
           }
          ],
          "scattergl": [
           {
            "marker": {
             "line": {
              "color": "#283442"
             }
            },
            "type": "scattergl"
           }
          ],
          "scattermapbox": [
           {
            "marker": {
             "colorbar": {
              "outlinewidth": 0,
              "ticks": ""
             }
            },
            "type": "scattermapbox"
           }
          ],
          "scatterpolar": [
           {
            "marker": {
             "colorbar": {
              "outlinewidth": 0,
              "ticks": ""
             }
            },
            "type": "scatterpolar"
           }
          ],
          "scatterpolargl": [
           {
            "marker": {
             "colorbar": {
              "outlinewidth": 0,
              "ticks": ""
             }
            },
            "type": "scatterpolargl"
           }
          ],
          "scatterternary": [
           {
            "marker": {
             "colorbar": {
              "outlinewidth": 0,
              "ticks": ""
             }
            },
            "type": "scatterternary"
           }
          ],
          "surface": [
           {
            "colorbar": {
             "outlinewidth": 0,
             "ticks": ""
            },
            "colorscale": [
             [
              0,
              "#0d0887"
             ],
             [
              0.1111111111111111,
              "#46039f"
             ],
             [
              0.2222222222222222,
              "#7201a8"
             ],
             [
              0.3333333333333333,
              "#9c179e"
             ],
             [
              0.4444444444444444,
              "#bd3786"
             ],
             [
              0.5555555555555556,
              "#d8576b"
             ],
             [
              0.6666666666666666,
              "#ed7953"
             ],
             [
              0.7777777777777778,
              "#fb9f3a"
             ],
             [
              0.8888888888888888,
              "#fdca26"
             ],
             [
              1,
              "#f0f921"
             ]
            ],
            "type": "surface"
           }
          ],
          "table": [
           {
            "cells": {
             "fill": {
              "color": "#506784"
             },
             "line": {
              "color": "rgb(17,17,17)"
             }
            },
            "header": {
             "fill": {
              "color": "#2a3f5f"
             },
             "line": {
              "color": "rgb(17,17,17)"
             }
            },
            "type": "table"
           }
          ]
         },
         "layout": {
          "annotationdefaults": {
           "arrowcolor": "#f2f5fa",
           "arrowhead": 0,
           "arrowwidth": 1
          },
          "autotypenumbers": "strict",
          "coloraxis": {
           "colorbar": {
            "outlinewidth": 0,
            "ticks": ""
           }
          },
          "colorscale": {
           "diverging": [
            [
             0,
             "#8e0152"
            ],
            [
             0.1,
             "#c51b7d"
            ],
            [
             0.2,
             "#de77ae"
            ],
            [
             0.3,
             "#f1b6da"
            ],
            [
             0.4,
             "#fde0ef"
            ],
            [
             0.5,
             "#f7f7f7"
            ],
            [
             0.6,
             "#e6f5d0"
            ],
            [
             0.7,
             "#b8e186"
            ],
            [
             0.8,
             "#7fbc41"
            ],
            [
             0.9,
             "#4d9221"
            ],
            [
             1,
             "#276419"
            ]
           ],
           "sequential": [
            [
             0,
             "#0d0887"
            ],
            [
             0.1111111111111111,
             "#46039f"
            ],
            [
             0.2222222222222222,
             "#7201a8"
            ],
            [
             0.3333333333333333,
             "#9c179e"
            ],
            [
             0.4444444444444444,
             "#bd3786"
            ],
            [
             0.5555555555555556,
             "#d8576b"
            ],
            [
             0.6666666666666666,
             "#ed7953"
            ],
            [
             0.7777777777777778,
             "#fb9f3a"
            ],
            [
             0.8888888888888888,
             "#fdca26"
            ],
            [
             1,
             "#f0f921"
            ]
           ],
           "sequentialminus": [
            [
             0,
             "#0d0887"
            ],
            [
             0.1111111111111111,
             "#46039f"
            ],
            [
             0.2222222222222222,
             "#7201a8"
            ],
            [
             0.3333333333333333,
             "#9c179e"
            ],
            [
             0.4444444444444444,
             "#bd3786"
            ],
            [
             0.5555555555555556,
             "#d8576b"
            ],
            [
             0.6666666666666666,
             "#ed7953"
            ],
            [
             0.7777777777777778,
             "#fb9f3a"
            ],
            [
             0.8888888888888888,
             "#fdca26"
            ],
            [
             1,
             "#f0f921"
            ]
           ]
          },
          "colorway": [
           "#636efa",
           "#EF553B",
           "#00cc96",
           "#ab63fa",
           "#FFA15A",
           "#19d3f3",
           "#FF6692",
           "#B6E880",
           "#FF97FF",
           "#FECB52"
          ],
          "font": {
           "color": "#f2f5fa"
          },
          "geo": {
           "bgcolor": "rgb(17,17,17)",
           "lakecolor": "rgb(17,17,17)",
           "landcolor": "rgb(17,17,17)",
           "showlakes": true,
           "showland": true,
           "subunitcolor": "#506784"
          },
          "hoverlabel": {
           "align": "left"
          },
          "hovermode": "closest",
          "mapbox": {
           "style": "dark"
          },
          "paper_bgcolor": "rgb(17,17,17)",
          "plot_bgcolor": "rgb(17,17,17)",
          "polar": {
           "angularaxis": {
            "gridcolor": "#506784",
            "linecolor": "#506784",
            "ticks": ""
           },
           "bgcolor": "rgb(17,17,17)",
           "radialaxis": {
            "gridcolor": "#506784",
            "linecolor": "#506784",
            "ticks": ""
           }
          },
          "scene": {
           "xaxis": {
            "backgroundcolor": "rgb(17,17,17)",
            "gridcolor": "#506784",
            "gridwidth": 2,
            "linecolor": "#506784",
            "showbackground": true,
            "ticks": "",
            "zerolinecolor": "#C8D4E3"
           },
           "yaxis": {
            "backgroundcolor": "rgb(17,17,17)",
            "gridcolor": "#506784",
            "gridwidth": 2,
            "linecolor": "#506784",
            "showbackground": true,
            "ticks": "",
            "zerolinecolor": "#C8D4E3"
           },
           "zaxis": {
            "backgroundcolor": "rgb(17,17,17)",
            "gridcolor": "#506784",
            "gridwidth": 2,
            "linecolor": "#506784",
            "showbackground": true,
            "ticks": "",
            "zerolinecolor": "#C8D4E3"
           }
          },
          "shapedefaults": {
           "line": {
            "color": "#f2f5fa"
           }
          },
          "sliderdefaults": {
           "bgcolor": "#C8D4E3",
           "bordercolor": "rgb(17,17,17)",
           "borderwidth": 1,
           "tickwidth": 0
          },
          "ternary": {
           "aaxis": {
            "gridcolor": "#506784",
            "linecolor": "#506784",
            "ticks": ""
           },
           "baxis": {
            "gridcolor": "#506784",
            "linecolor": "#506784",
            "ticks": ""
           },
           "bgcolor": "rgb(17,17,17)",
           "caxis": {
            "gridcolor": "#506784",
            "linecolor": "#506784",
            "ticks": ""
           }
          },
          "title": {
           "x": 0.05
          },
          "updatemenudefaults": {
           "bgcolor": "#506784",
           "borderwidth": 0
          },
          "xaxis": {
           "automargin": true,
           "gridcolor": "#283442",
           "linecolor": "#506784",
           "ticks": "",
           "title": {
            "standoff": 15
           },
           "zerolinecolor": "#283442",
           "zerolinewidth": 2
          },
          "yaxis": {
           "automargin": true,
           "gridcolor": "#283442",
           "linecolor": "#506784",
           "ticks": "",
           "title": {
            "standoff": 15
           },
           "zerolinecolor": "#283442",
           "zerolinewidth": 2
          }
         }
        },
        "title": {
         "text": "S&P 500 Index Candlestick Chart"
        },
        "yaxis": {
         "title": {
          "text": "Stock Price"
         }
        }
       }
      },
      "text/html": [
       "<div>                            <div id=\"55fc7d23-d1bd-4143-a799-509ba267fd90\" class=\"plotly-graph-div\" style=\"height:525px; width:100%;\"></div>            <script type=\"text/javascript\">                require([\"plotly\"], function(Plotly) {                    window.PLOTLYENV=window.PLOTLYENV || {};                                    if (document.getElementById(\"55fc7d23-d1bd-4143-a799-509ba267fd90\")) {                    Plotly.newPlot(                        \"55fc7d23-d1bd-4143-a799-509ba267fd90\",                        [{\"close\":[4742.830078125,4704.81005859375,4688.68017578125,4697.240234375,4763.5400390625,4756.5,4783.4501953125,4780.240234375,4783.830078125,4765.97998046875,4739.2099609375,4780.93994140625,4839.81005859375,4850.43017578125,4864.60009765625,4868.5498046875,4894.16015625,4890.97021484375,4927.93017578125,4924.97021484375,4845.64990234375],\"high\":[4754.330078125,4729.2900390625,4726.77978515625,4721.490234375,4764.5400390625,4765.47021484375,4790.7998046875,4798.5,4802.39990234375,4782.33984375,4744.22998046875,4785.7900390625,4842.06982421875,4868.41015625,4866.47998046875,4903.68017578125,4898.14990234375,4906.68994140625,4929.31005859375,4931.08984375,4906.75],\"low\":[4722.669921875,4699.7099609375,4687.52978515625,4682.10986328125,4699.81982421875,4730.35009765625,4756.2001953125,4739.580078125,4768.97998046875,4747.1201171875,4714.81982421875,4740.56982421875,4785.8701171875,4844.0498046875,4844.3701171875,4865.93994140625,4869.33984375,4881.47021484375,4887.39990234375,4916.27001953125,4845.14990234375],\"open\":[4745.2001953125,4725.06982421875,4697.419921875,4690.56982421875,4703.7001953125,4741.93017578125,4759.93994140625,4792.1298828125,4791.18017578125,4772.35009765625,4739.1298828125,4760.10009765625,4796.27978515625,4853.419921875,4856.7998046875,4888.56005859375,4886.66015625,4888.91015625,4892.9501953125,4925.89013671875,4899.18994140625],\"x\":[\"2024-01-02\",\"2024-01-03\",\"2024-01-04\",\"2024-01-05\",\"2024-01-08\",\"2024-01-09\",\"2024-01-10\",\"2024-01-11\",\"2024-01-12\",\"2024-01-16\",\"2024-01-17\",\"2024-01-18\",\"2024-01-19\",\"2024-01-22\",\"2024-01-23\",\"2024-01-24\",\"2024-01-25\",\"2024-01-26\",\"2024-01-29\",\"2024-01-30\",\"2024-01-31\"],\"type\":\"candlestick\"}],                        {\"template\":{\"data\":{\"barpolar\":[{\"marker\":{\"line\":{\"color\":\"rgb(17,17,17)\",\"width\":0.5},\"pattern\":{\"fillmode\":\"overlay\",\"size\":10,\"solidity\":0.2}},\"type\":\"barpolar\"}],\"bar\":[{\"error_x\":{\"color\":\"#f2f5fa\"},\"error_y\":{\"color\":\"#f2f5fa\"},\"marker\":{\"line\":{\"color\":\"rgb(17,17,17)\",\"width\":0.5},\"pattern\":{\"fillmode\":\"overlay\",\"size\":10,\"solidity\":0.2}},\"type\":\"bar\"}],\"carpet\":[{\"aaxis\":{\"endlinecolor\":\"#A2B1C6\",\"gridcolor\":\"#506784\",\"linecolor\":\"#506784\",\"minorgridcolor\":\"#506784\",\"startlinecolor\":\"#A2B1C6\"},\"baxis\":{\"endlinecolor\":\"#A2B1C6\",\"gridcolor\":\"#506784\",\"linecolor\":\"#506784\",\"minorgridcolor\":\"#506784\",\"startlinecolor\":\"#A2B1C6\"},\"type\":\"carpet\"}],\"choropleth\":[{\"colorbar\":{\"outlinewidth\":0,\"ticks\":\"\"},\"type\":\"choropleth\"}],\"contourcarpet\":[{\"colorbar\":{\"outlinewidth\":0,\"ticks\":\"\"},\"type\":\"contourcarpet\"}],\"contour\":[{\"colorbar\":{\"outlinewidth\":0,\"ticks\":\"\"},\"colorscale\":[[0.0,\"#0d0887\"],[0.1111111111111111,\"#46039f\"],[0.2222222222222222,\"#7201a8\"],[0.3333333333333333,\"#9c179e\"],[0.4444444444444444,\"#bd3786\"],[0.5555555555555556,\"#d8576b\"],[0.6666666666666666,\"#ed7953\"],[0.7777777777777778,\"#fb9f3a\"],[0.8888888888888888,\"#fdca26\"],[1.0,\"#f0f921\"]],\"type\":\"contour\"}],\"heatmapgl\":[{\"colorbar\":{\"outlinewidth\":0,\"ticks\":\"\"},\"colorscale\":[[0.0,\"#0d0887\"],[0.1111111111111111,\"#46039f\"],[0.2222222222222222,\"#7201a8\"],[0.3333333333333333,\"#9c179e\"],[0.4444444444444444,\"#bd3786\"],[0.5555555555555556,\"#d8576b\"],[0.6666666666666666,\"#ed7953\"],[0.7777777777777778,\"#fb9f3a\"],[0.8888888888888888,\"#fdca26\"],[1.0,\"#f0f921\"]],\"type\":\"heatmapgl\"}],\"heatmap\":[{\"colorbar\":{\"outlinewidth\":0,\"ticks\":\"\"},\"colorscale\":[[0.0,\"#0d0887\"],[0.1111111111111111,\"#46039f\"],[0.2222222222222222,\"#7201a8\"],[0.3333333333333333,\"#9c179e\"],[0.4444444444444444,\"#bd3786\"],[0.5555555555555556,\"#d8576b\"],[0.6666666666666666,\"#ed7953\"],[0.7777777777777778,\"#fb9f3a\"],[0.8888888888888888,\"#fdca26\"],[1.0,\"#f0f921\"]],\"type\":\"heatmap\"}],\"histogram2dcontour\":[{\"colorbar\":{\"outlinewidth\":0,\"ticks\":\"\"},\"colorscale\":[[0.0,\"#0d0887\"],[0.1111111111111111,\"#46039f\"],[0.2222222222222222,\"#7201a8\"],[0.3333333333333333,\"#9c179e\"],[0.4444444444444444,\"#bd3786\"],[0.5555555555555556,\"#d8576b\"],[0.6666666666666666,\"#ed7953\"],[0.7777777777777778,\"#fb9f3a\"],[0.8888888888888888,\"#fdca26\"],[1.0,\"#f0f921\"]],\"type\":\"histogram2dcontour\"}],\"histogram2d\":[{\"colorbar\":{\"outlinewidth\":0,\"ticks\":\"\"},\"colorscale\":[[0.0,\"#0d0887\"],[0.1111111111111111,\"#46039f\"],[0.2222222222222222,\"#7201a8\"],[0.3333333333333333,\"#9c179e\"],[0.4444444444444444,\"#bd3786\"],[0.5555555555555556,\"#d8576b\"],[0.6666666666666666,\"#ed7953\"],[0.7777777777777778,\"#fb9f3a\"],[0.8888888888888888,\"#fdca26\"],[1.0,\"#f0f921\"]],\"type\":\"histogram2d\"}],\"histogram\":[{\"marker\":{\"pattern\":{\"fillmode\":\"overlay\",\"size\":10,\"solidity\":0.2}},\"type\":\"histogram\"}],\"mesh3d\":[{\"colorbar\":{\"outlinewidth\":0,\"ticks\":\"\"},\"type\":\"mesh3d\"}],\"parcoords\":[{\"line\":{\"colorbar\":{\"outlinewidth\":0,\"ticks\":\"\"}},\"type\":\"parcoords\"}],\"pie\":[{\"automargin\":true,\"type\":\"pie\"}],\"scatter3d\":[{\"line\":{\"colorbar\":{\"outlinewidth\":0,\"ticks\":\"\"}},\"marker\":{\"colorbar\":{\"outlinewidth\":0,\"ticks\":\"\"}},\"type\":\"scatter3d\"}],\"scattercarpet\":[{\"marker\":{\"colorbar\":{\"outlinewidth\":0,\"ticks\":\"\"}},\"type\":\"scattercarpet\"}],\"scattergeo\":[{\"marker\":{\"colorbar\":{\"outlinewidth\":0,\"ticks\":\"\"}},\"type\":\"scattergeo\"}],\"scattergl\":[{\"marker\":{\"line\":{\"color\":\"#283442\"}},\"type\":\"scattergl\"}],\"scattermapbox\":[{\"marker\":{\"colorbar\":{\"outlinewidth\":0,\"ticks\":\"\"}},\"type\":\"scattermapbox\"}],\"scatterpolargl\":[{\"marker\":{\"colorbar\":{\"outlinewidth\":0,\"ticks\":\"\"}},\"type\":\"scatterpolargl\"}],\"scatterpolar\":[{\"marker\":{\"colorbar\":{\"outlinewidth\":0,\"ticks\":\"\"}},\"type\":\"scatterpolar\"}],\"scatter\":[{\"marker\":{\"line\":{\"color\":\"#283442\"}},\"type\":\"scatter\"}],\"scatterternary\":[{\"marker\":{\"colorbar\":{\"outlinewidth\":0,\"ticks\":\"\"}},\"type\":\"scatterternary\"}],\"surface\":[{\"colorbar\":{\"outlinewidth\":0,\"ticks\":\"\"},\"colorscale\":[[0.0,\"#0d0887\"],[0.1111111111111111,\"#46039f\"],[0.2222222222222222,\"#7201a8\"],[0.3333333333333333,\"#9c179e\"],[0.4444444444444444,\"#bd3786\"],[0.5555555555555556,\"#d8576b\"],[0.6666666666666666,\"#ed7953\"],[0.7777777777777778,\"#fb9f3a\"],[0.8888888888888888,\"#fdca26\"],[1.0,\"#f0f921\"]],\"type\":\"surface\"}],\"table\":[{\"cells\":{\"fill\":{\"color\":\"#506784\"},\"line\":{\"color\":\"rgb(17,17,17)\"}},\"header\":{\"fill\":{\"color\":\"#2a3f5f\"},\"line\":{\"color\":\"rgb(17,17,17)\"}},\"type\":\"table\"}]},\"layout\":{\"annotationdefaults\":{\"arrowcolor\":\"#f2f5fa\",\"arrowhead\":0,\"arrowwidth\":1},\"autotypenumbers\":\"strict\",\"coloraxis\":{\"colorbar\":{\"outlinewidth\":0,\"ticks\":\"\"}},\"colorscale\":{\"diverging\":[[0,\"#8e0152\"],[0.1,\"#c51b7d\"],[0.2,\"#de77ae\"],[0.3,\"#f1b6da\"],[0.4,\"#fde0ef\"],[0.5,\"#f7f7f7\"],[0.6,\"#e6f5d0\"],[0.7,\"#b8e186\"],[0.8,\"#7fbc41\"],[0.9,\"#4d9221\"],[1,\"#276419\"]],\"sequential\":[[0.0,\"#0d0887\"],[0.1111111111111111,\"#46039f\"],[0.2222222222222222,\"#7201a8\"],[0.3333333333333333,\"#9c179e\"],[0.4444444444444444,\"#bd3786\"],[0.5555555555555556,\"#d8576b\"],[0.6666666666666666,\"#ed7953\"],[0.7777777777777778,\"#fb9f3a\"],[0.8888888888888888,\"#fdca26\"],[1.0,\"#f0f921\"]],\"sequentialminus\":[[0.0,\"#0d0887\"],[0.1111111111111111,\"#46039f\"],[0.2222222222222222,\"#7201a8\"],[0.3333333333333333,\"#9c179e\"],[0.4444444444444444,\"#bd3786\"],[0.5555555555555556,\"#d8576b\"],[0.6666666666666666,\"#ed7953\"],[0.7777777777777778,\"#fb9f3a\"],[0.8888888888888888,\"#fdca26\"],[1.0,\"#f0f921\"]]},\"colorway\":[\"#636efa\",\"#EF553B\",\"#00cc96\",\"#ab63fa\",\"#FFA15A\",\"#19d3f3\",\"#FF6692\",\"#B6E880\",\"#FF97FF\",\"#FECB52\"],\"font\":{\"color\":\"#f2f5fa\"},\"geo\":{\"bgcolor\":\"rgb(17,17,17)\",\"lakecolor\":\"rgb(17,17,17)\",\"landcolor\":\"rgb(17,17,17)\",\"showlakes\":true,\"showland\":true,\"subunitcolor\":\"#506784\"},\"hoverlabel\":{\"align\":\"left\"},\"hovermode\":\"closest\",\"mapbox\":{\"style\":\"dark\"},\"paper_bgcolor\":\"rgb(17,17,17)\",\"plot_bgcolor\":\"rgb(17,17,17)\",\"polar\":{\"angularaxis\":{\"gridcolor\":\"#506784\",\"linecolor\":\"#506784\",\"ticks\":\"\"},\"bgcolor\":\"rgb(17,17,17)\",\"radialaxis\":{\"gridcolor\":\"#506784\",\"linecolor\":\"#506784\",\"ticks\":\"\"}},\"scene\":{\"xaxis\":{\"backgroundcolor\":\"rgb(17,17,17)\",\"gridcolor\":\"#506784\",\"gridwidth\":2,\"linecolor\":\"#506784\",\"showbackground\":true,\"ticks\":\"\",\"zerolinecolor\":\"#C8D4E3\"},\"yaxis\":{\"backgroundcolor\":\"rgb(17,17,17)\",\"gridcolor\":\"#506784\",\"gridwidth\":2,\"linecolor\":\"#506784\",\"showbackground\":true,\"ticks\":\"\",\"zerolinecolor\":\"#C8D4E3\"},\"zaxis\":{\"backgroundcolor\":\"rgb(17,17,17)\",\"gridcolor\":\"#506784\",\"gridwidth\":2,\"linecolor\":\"#506784\",\"showbackground\":true,\"ticks\":\"\",\"zerolinecolor\":\"#C8D4E3\"}},\"shapedefaults\":{\"line\":{\"color\":\"#f2f5fa\"}},\"sliderdefaults\":{\"bgcolor\":\"#C8D4E3\",\"bordercolor\":\"rgb(17,17,17)\",\"borderwidth\":1,\"tickwidth\":0},\"ternary\":{\"aaxis\":{\"gridcolor\":\"#506784\",\"linecolor\":\"#506784\",\"ticks\":\"\"},\"baxis\":{\"gridcolor\":\"#506784\",\"linecolor\":\"#506784\",\"ticks\":\"\"},\"bgcolor\":\"rgb(17,17,17)\",\"caxis\":{\"gridcolor\":\"#506784\",\"linecolor\":\"#506784\",\"ticks\":\"\"}},\"title\":{\"x\":0.05},\"updatemenudefaults\":{\"bgcolor\":\"#506784\",\"borderwidth\":0},\"xaxis\":{\"automargin\":true,\"gridcolor\":\"#283442\",\"linecolor\":\"#506784\",\"ticks\":\"\",\"title\":{\"standoff\":15},\"zerolinecolor\":\"#283442\",\"zerolinewidth\":2},\"yaxis\":{\"automargin\":true,\"gridcolor\":\"#283442\",\"linecolor\":\"#506784\",\"ticks\":\"\",\"title\":{\"standoff\":15},\"zerolinecolor\":\"#283442\",\"zerolinewidth\":2}}},\"title\":{\"text\":\"S&P 500 Index Candlestick Chart\"},\"yaxis\":{\"title\":{\"text\":\"Stock Price\"}}},                        {\"responsive\": true}                    ).then(function(){\n",
       "                            \n",
       "var gd = document.getElementById('55fc7d23-d1bd-4143-a799-509ba267fd90');\n",
       "var x = new MutationObserver(function (mutations, observer) {{\n",
       "        var display = window.getComputedStyle(gd).display;\n",
       "        if (!display || display === 'none') {{\n",
       "            console.log([gd, 'removed!']);\n",
       "            Plotly.purge(gd);\n",
       "            observer.disconnect();\n",
       "        }}\n",
       "}});\n",
       "\n",
       "// Listen for the removal of the full notebook cells\n",
       "var notebookContainer = gd.closest('#notebook-container');\n",
       "if (notebookContainer) {{\n",
       "    x.observe(notebookContainer, {childList: true});\n",
       "}}\n",
       "\n",
       "// Listen for the clearing of the current output cell\n",
       "var outputEl = gd.closest('.output');\n",
       "if (outputEl) {{\n",
       "    x.observe(outputEl, {childList: true});\n",
       "}}\n",
       "\n",
       "                        })                };                });            </script>        </div>"
      ]
     },
     "metadata": {},
     "output_type": "display_data"
    }
   ],
   "source": [
    "# Set the date to be the index for the Pandas DataFrame\n",
    "# This is critical to show the date on the x-axis when using cufflinks\n",
    "import plotly.graph_objects as go\n",
    "\n",
    "fig = go.Figure(data=[go.Candlestick(x=data.index,\n",
    "                open=data['open'],\n",
    "                high=data['high'],\n",
    "                low=data['low'],\n",
    "                close=data['close'])])\n",
    "\n",
    "fig.update_layout(title='S&P 500 Index Candlestick Chart',\n",
    "                 yaxis_title='Stock Price',\n",
    "                 template='plotly_dark')  # Using dark theme to match previous plots\n",
    "\n",
    "fig.show()"
   ]
  },
  {
   "cell_type": "code",
   "execution_count": 25,
   "metadata": {},
   "outputs": [
    {
     "data": {
      "text/html": [
       "<div>\n",
       "<style scoped>\n",
       "    .dataframe tbody tr th:only-of-type {\n",
       "        vertical-align: middle;\n",
       "    }\n",
       "\n",
       "    .dataframe tbody tr th {\n",
       "        vertical-align: top;\n",
       "    }\n",
       "\n",
       "    .dataframe thead th {\n",
       "        text-align: right;\n",
       "    }\n",
       "</style>\n",
       "<table border=\"1\" class=\"dataframe\">\n",
       "  <thead>\n",
       "    <tr style=\"text-align: right;\">\n",
       "      <th></th>\n",
       "      <th>symbol</th>\n",
       "      <th>market_cap</th>\n",
       "      <th>pe_ratio</th>\n",
       "      <th>forward_pe</th>\n",
       "      <th>peg_ratio_ttm</th>\n",
       "      <th>enterprise_to_ebitda</th>\n",
       "      <th>earnings_growth</th>\n",
       "      <th>earnings_growth_quarterly</th>\n",
       "      <th>revenue_per_share</th>\n",
       "      <th>revenue_growth</th>\n",
       "      <th>...</th>\n",
       "      <th>price_to_book</th>\n",
       "      <th>enterprise_value</th>\n",
       "      <th>overall_risk</th>\n",
       "      <th>audit_risk</th>\n",
       "      <th>board_risk</th>\n",
       "      <th>compensation_risk</th>\n",
       "      <th>shareholder_rights_risk</th>\n",
       "      <th>beta</th>\n",
       "      <th>price_return_1y</th>\n",
       "      <th>currency</th>\n",
       "    </tr>\n",
       "  </thead>\n",
       "  <tbody>\n",
       "    <tr>\n",
       "      <th>0</th>\n",
       "      <td>AAPL</td>\n",
       "      <td>3.503454e+12</td>\n",
       "      <td>37.019047</td>\n",
       "      <td>28.270323</td>\n",
       "      <td>2.1472</td>\n",
       "      <td>27.070</td>\n",
       "      <td>-0.341</td>\n",
       "      <td>-0.358</td>\n",
       "      <td>25.485</td>\n",
       "      <td>0.061</td>\n",
       "      <td>...</td>\n",
       "      <td>61.911335</td>\n",
       "      <td>3645256499200</td>\n",
       "      <td>1.0</td>\n",
       "      <td>3.0</td>\n",
       "      <td>1.0</td>\n",
       "      <td>3.0</td>\n",
       "      <td>1.0</td>\n",
       "      <td>1.240</td>\n",
       "      <td>0.234441</td>\n",
       "      <td>USD</td>\n",
       "    </tr>\n",
       "    <tr>\n",
       "      <th>1</th>\n",
       "      <td>MSFT</td>\n",
       "      <td>3.091198e+12</td>\n",
       "      <td>33.533870</td>\n",
       "      <td>27.637518</td>\n",
       "      <td>2.1928</td>\n",
       "      <td>24.218</td>\n",
       "      <td>0.104</td>\n",
       "      <td>0.107</td>\n",
       "      <td>34.202</td>\n",
       "      <td>0.160</td>\n",
       "      <td>...</td>\n",
       "      <td>11.513775</td>\n",
       "      <td>3307079729152</td>\n",
       "      <td>3.0</td>\n",
       "      <td>9.0</td>\n",
       "      <td>5.0</td>\n",
       "      <td>3.0</td>\n",
       "      <td>2.0</td>\n",
       "      <td>0.904</td>\n",
       "      <td>-0.001980</td>\n",
       "      <td>USD</td>\n",
       "    </tr>\n",
       "    <tr>\n",
       "      <th>2</th>\n",
       "      <td>NVDA</td>\n",
       "      <td>3.151373e+12</td>\n",
       "      <td>50.861656</td>\n",
       "      <td>28.937597</td>\n",
       "      <td>0.8947</td>\n",
       "      <td>58.085</td>\n",
       "      <td>1.680</td>\n",
       "      <td>1.682</td>\n",
       "      <td>3.910</td>\n",
       "      <td>1.224</td>\n",
       "      <td>...</td>\n",
       "      <td>73.784400</td>\n",
       "      <td>3553896693760</td>\n",
       "      <td>8.0</td>\n",
       "      <td>7.0</td>\n",
       "      <td>10.0</td>\n",
       "      <td>5.0</td>\n",
       "      <td>6.0</td>\n",
       "      <td>1.657</td>\n",
       "      <td>0.792479</td>\n",
       "      <td>USD</td>\n",
       "    </tr>\n",
       "    <tr>\n",
       "      <th>3</th>\n",
       "      <td>AMZN</td>\n",
       "      <td>2.511298e+12</td>\n",
       "      <td>51.032055</td>\n",
       "      <td>38.488068</td>\n",
       "      <td>1.9409</td>\n",
       "      <td>22.887</td>\n",
       "      <td>0.521</td>\n",
       "      <td>0.552</td>\n",
       "      <td>59.486</td>\n",
       "      <td>0.110</td>\n",
       "      <td>...</td>\n",
       "      <td>9.686879</td>\n",
       "      <td>2553814188032</td>\n",
       "      <td>9.0</td>\n",
       "      <td>2.0</td>\n",
       "      <td>10.0</td>\n",
       "      <td>10.0</td>\n",
       "      <td>3.0</td>\n",
       "      <td>1.146</td>\n",
       "      <td>0.390544</td>\n",
       "      <td>USD</td>\n",
       "    </tr>\n",
       "    <tr>\n",
       "      <th>4</th>\n",
       "      <td>TSLA</td>\n",
       "      <td>1.204008e+12</td>\n",
       "      <td>183.490200</td>\n",
       "      <td>96.901540</td>\n",
       "      <td>5.0666</td>\n",
       "      <td>92.793</td>\n",
       "      <td>0.170</td>\n",
       "      <td>0.169</td>\n",
       "      <td>30.457</td>\n",
       "      <td>0.078</td>\n",
       "      <td>...</td>\n",
       "      <td>17.165918</td>\n",
       "      <td>1228948242432</td>\n",
       "      <td>10.0</td>\n",
       "      <td>5.0</td>\n",
       "      <td>9.0</td>\n",
       "      <td>10.0</td>\n",
       "      <td>9.0</td>\n",
       "      <td>2.295</td>\n",
       "      <td>0.994988</td>\n",
       "      <td>USD</td>\n",
       "    </tr>\n",
       "    <tr>\n",
       "      <th>5</th>\n",
       "      <td>GOOGL</td>\n",
       "      <td>2.346449e+12</td>\n",
       "      <td>23.830847</td>\n",
       "      <td>18.606802</td>\n",
       "      <td>1.2503</td>\n",
       "      <td>19.943</td>\n",
       "      <td>0.366</td>\n",
       "      <td>0.336</td>\n",
       "      <td>27.443</td>\n",
       "      <td>0.151</td>\n",
       "      <td>...</td>\n",
       "      <td>7.480576</td>\n",
       "      <td>2462356602880</td>\n",
       "      <td>10.0</td>\n",
       "      <td>8.0</td>\n",
       "      <td>7.0</td>\n",
       "      <td>10.0</td>\n",
       "      <td>10.0</td>\n",
       "      <td>1.034</td>\n",
       "      <td>0.311288</td>\n",
       "      <td>USD</td>\n",
       "    </tr>\n",
       "    <tr>\n",
       "      <th>6</th>\n",
       "      <td>META</td>\n",
       "      <td>1.803941e+12</td>\n",
       "      <td>29.790377</td>\n",
       "      <td>24.533089</td>\n",
       "      <td>2.0552</td>\n",
       "      <td>21.285</td>\n",
       "      <td>0.374</td>\n",
       "      <td>0.354</td>\n",
       "      <td>61.428</td>\n",
       "      <td>0.189</td>\n",
       "      <td>...</td>\n",
       "      <td>10.922438</td>\n",
       "      <td>1685938241536</td>\n",
       "      <td>10.0</td>\n",
       "      <td>10.0</td>\n",
       "      <td>10.0</td>\n",
       "      <td>10.0</td>\n",
       "      <td>10.0</td>\n",
       "      <td>1.215</td>\n",
       "      <td>0.499723</td>\n",
       "      <td>USD</td>\n",
       "    </tr>\n",
       "  </tbody>\n",
       "</table>\n",
       "<p>7 rows × 34 columns</p>\n",
       "</div>"
      ],
      "text/plain": [
       "  symbol    market_cap    pe_ratio  forward_pe  peg_ratio_ttm  \\\n",
       "0   AAPL  3.503454e+12   37.019047   28.270323         2.1472   \n",
       "1   MSFT  3.091198e+12   33.533870   27.637518         2.1928   \n",
       "2   NVDA  3.151373e+12   50.861656   28.937597         0.8947   \n",
       "3   AMZN  2.511298e+12   51.032055   38.488068         1.9409   \n",
       "4   TSLA  1.204008e+12  183.490200   96.901540         5.0666   \n",
       "5  GOOGL  2.346449e+12   23.830847   18.606802         1.2503   \n",
       "6   META  1.803941e+12   29.790377   24.533089         2.0552   \n",
       "\n",
       "   enterprise_to_ebitda  earnings_growth  earnings_growth_quarterly  \\\n",
       "0                27.070           -0.341                     -0.358   \n",
       "1                24.218            0.104                      0.107   \n",
       "2                58.085            1.680                      1.682   \n",
       "3                22.887            0.521                      0.552   \n",
       "4                92.793            0.170                      0.169   \n",
       "5                19.943            0.366                      0.336   \n",
       "6                21.285            0.374                      0.354   \n",
       "\n",
       "   revenue_per_share  revenue_growth  ...  price_to_book  enterprise_value  \\\n",
       "0             25.485           0.061  ...      61.911335     3645256499200   \n",
       "1             34.202           0.160  ...      11.513775     3307079729152   \n",
       "2              3.910           1.224  ...      73.784400     3553896693760   \n",
       "3             59.486           0.110  ...       9.686879     2553814188032   \n",
       "4             30.457           0.078  ...      17.165918     1228948242432   \n",
       "5             27.443           0.151  ...       7.480576     2462356602880   \n",
       "6             61.428           0.189  ...      10.922438     1685938241536   \n",
       "\n",
       "   overall_risk  audit_risk  board_risk  compensation_risk  \\\n",
       "0           1.0         3.0         1.0                3.0   \n",
       "1           3.0         9.0         5.0                3.0   \n",
       "2           8.0         7.0        10.0                5.0   \n",
       "3           9.0         2.0        10.0               10.0   \n",
       "4          10.0         5.0         9.0               10.0   \n",
       "5          10.0         8.0         7.0               10.0   \n",
       "6          10.0        10.0        10.0               10.0   \n",
       "\n",
       "   shareholder_rights_risk   beta  price_return_1y  currency  \n",
       "0                      1.0  1.240         0.234441       USD  \n",
       "1                      2.0  0.904        -0.001980       USD  \n",
       "2                      6.0  1.657         0.792479       USD  \n",
       "3                      3.0  1.146         0.390544       USD  \n",
       "4                      9.0  2.295         0.994988       USD  \n",
       "5                     10.0  1.034         0.311288       USD  \n",
       "6                     10.0  1.215         0.499723       USD  \n",
       "\n",
       "[7 rows x 34 columns]"
      ]
     },
     "execution_count": 25,
     "metadata": {},
     "output_type": "execute_result"
    }
   ],
   "source": [
    "#Equity Fundamentals\n",
    "\n",
    "obb.equity.fundamental.metrics(\"AAPL,MSFT,NVDA,AMZN,TSLA,GOOGL,META\", provider = \"yfinance\")"
   ]
  },
  {
   "cell_type": "code",
   "execution_count": 26,
   "metadata": {},
   "outputs": [
    {
     "data": {
      "text/plain": [
       "['__class__',\n",
       " '__delattr__',\n",
       " '__dict__',\n",
       " '__dir__',\n",
       " '__doc__',\n",
       " '__eq__',\n",
       " '__format__',\n",
       " '__ge__',\n",
       " '__getattribute__',\n",
       " '__gt__',\n",
       " '__hash__',\n",
       " '__init__',\n",
       " '__init_subclass__',\n",
       " '__le__',\n",
       " '__lt__',\n",
       " '__module__',\n",
       " '__ne__',\n",
       " '__new__',\n",
       " '__reduce__',\n",
       " '__reduce_ex__',\n",
       " '__repr__',\n",
       " '__setattr__',\n",
       " '__sizeof__',\n",
       " '__str__',\n",
       " '__subclasshook__',\n",
       " '__weakref__',\n",
       " '_check_credentials',\n",
       " '_command_runner',\n",
       " '_get_provider',\n",
       " '_run',\n",
       " 'balance',\n",
       " 'balance_growth',\n",
       " 'cash',\n",
       " 'cash_growth',\n",
       " 'dividends',\n",
       " 'employee_count',\n",
       " 'filings',\n",
       " 'historical_attributes',\n",
       " 'historical_eps',\n",
       " 'historical_splits',\n",
       " 'income',\n",
       " 'income_growth',\n",
       " 'latest_attributes',\n",
       " 'management',\n",
       " 'management_compensation',\n",
       " 'metrics',\n",
       " 'multiples',\n",
       " 'ratios',\n",
       " 'reported_financials',\n",
       " 'revenue_per_geography',\n",
       " 'revenue_per_segment',\n",
       " 'search_attributes',\n",
       " 'trailing_dividend_yield',\n",
       " 'transcript']"
      ]
     },
     "execution_count": 26,
     "metadata": {},
     "output_type": "execute_result"
    }
   ],
   "source": [
    "dir(obb.equity.fundamental)"
   ]
  },
  {
   "cell_type": "code",
   "execution_count": 27,
   "metadata": {},
   "outputs": [
    {
     "data": {
      "text/html": [
       "<div>\n",
       "<style scoped>\n",
       "    .dataframe tbody tr th:only-of-type {\n",
       "        vertical-align: middle;\n",
       "    }\n",
       "\n",
       "    .dataframe tbody tr th {\n",
       "        vertical-align: top;\n",
       "    }\n",
       "\n",
       "    .dataframe thead th {\n",
       "        text-align: right;\n",
       "    }\n",
       "</style>\n",
       "<table border=\"1\" class=\"dataframe\">\n",
       "  <thead>\n",
       "    <tr style=\"text-align: right;\">\n",
       "      <th></th>\n",
       "      <th>open</th>\n",
       "      <th>high</th>\n",
       "      <th>low</th>\n",
       "      <th>close</th>\n",
       "      <th>volume</th>\n",
       "    </tr>\n",
       "    <tr>\n",
       "      <th>date</th>\n",
       "      <th></th>\n",
       "      <th></th>\n",
       "      <th></th>\n",
       "      <th></th>\n",
       "      <th></th>\n",
       "    </tr>\n",
       "  </thead>\n",
       "  <tbody>\n",
       "    <tr>\n",
       "      <th>2006-01-03</th>\n",
       "      <td>10.25</td>\n",
       "      <td>11.36</td>\n",
       "      <td>10.25</td>\n",
       "      <td>10.70</td>\n",
       "      <td>6771</td>\n",
       "    </tr>\n",
       "    <tr>\n",
       "      <th>2006-01-04</th>\n",
       "      <td>10.95</td>\n",
       "      <td>10.97</td>\n",
       "      <td>10.35</td>\n",
       "      <td>10.77</td>\n",
       "      <td>8480</td>\n",
       "    </tr>\n",
       "    <tr>\n",
       "      <th>2006-01-05</th>\n",
       "      <td>10.59</td>\n",
       "      <td>10.72</td>\n",
       "      <td>10.37</td>\n",
       "      <td>10.60</td>\n",
       "      <td>6922</td>\n",
       "    </tr>\n",
       "    <tr>\n",
       "      <th>2006-01-06</th>\n",
       "      <td>10.43</td>\n",
       "      <td>10.89</td>\n",
       "      <td>10.27</td>\n",
       "      <td>10.46</td>\n",
       "      <td>6797</td>\n",
       "    </tr>\n",
       "    <tr>\n",
       "      <th>2006-01-09</th>\n",
       "      <td>10.46</td>\n",
       "      <td>11.02</td>\n",
       "      <td>10.46</td>\n",
       "      <td>10.67</td>\n",
       "      <td>8702</td>\n",
       "    </tr>\n",
       "    <tr>\n",
       "      <th>...</th>\n",
       "      <td>...</td>\n",
       "      <td>...</td>\n",
       "      <td>...</td>\n",
       "      <td>...</td>\n",
       "      <td>...</td>\n",
       "    </tr>\n",
       "    <tr>\n",
       "      <th>2025-01-30</th>\n",
       "      <td>174.25</td>\n",
       "      <td>176.53</td>\n",
       "      <td>172.21</td>\n",
       "      <td>174.52</td>\n",
       "      <td>1128752</td>\n",
       "    </tr>\n",
       "    <tr>\n",
       "      <th>2025-01-31</th>\n",
       "      <td>157.25</td>\n",
       "      <td>173.15</td>\n",
       "      <td>155.25</td>\n",
       "      <td>160.85</td>\n",
       "      <td>2619084</td>\n",
       "    </tr>\n",
       "    <tr>\n",
       "      <th>2025-02-03</th>\n",
       "      <td>155.02</td>\n",
       "      <td>156.54</td>\n",
       "      <td>144.15</td>\n",
       "      <td>145.52</td>\n",
       "      <td>2494881</td>\n",
       "    </tr>\n",
       "    <tr>\n",
       "      <th>2025-02-04</th>\n",
       "      <td>147.11</td>\n",
       "      <td>147.23</td>\n",
       "      <td>140.66</td>\n",
       "      <td>144.22</td>\n",
       "      <td>1083094</td>\n",
       "    </tr>\n",
       "    <tr>\n",
       "      <th>2025-02-05</th>\n",
       "      <td>144.52</td>\n",
       "      <td>144.99</td>\n",
       "      <td>139.57</td>\n",
       "      <td>144.06</td>\n",
       "      <td>970758</td>\n",
       "    </tr>\n",
       "  </tbody>\n",
       "</table>\n",
       "<p>4053 rows × 5 columns</p>\n",
       "</div>"
      ],
      "text/plain": [
       "              open    high     low   close   volume\n",
       "date                                               \n",
       "2006-01-03   10.25   11.36   10.25   10.70     6771\n",
       "2006-01-04   10.95   10.97   10.35   10.77     8480\n",
       "2006-01-05   10.59   10.72   10.37   10.60     6922\n",
       "2006-01-06   10.43   10.89   10.27   10.46     6797\n",
       "2006-01-09   10.46   11.02   10.46   10.67     8702\n",
       "...            ...     ...     ...     ...      ...\n",
       "2025-01-30  174.25  176.53  172.21  174.52  1128752\n",
       "2025-01-31  157.25  173.15  155.25  160.85  2619084\n",
       "2025-02-03  155.02  156.54  144.15  145.52  2494881\n",
       "2025-02-04  147.11  147.23  140.66  144.22  1083094\n",
       "2025-02-05  144.52  144.99  139.57  144.06   970758\n",
       "\n",
       "[4053 rows x 5 columns]"
      ]
     },
     "execution_count": 27,
     "metadata": {},
     "output_type": "execute_result"
    }
   ],
   "source": [
    "#Let's download the price data for the company\n",
    "data = obb.equity.price.historical(symbol=\"BOOT\")\n",
    "data"
   ]
  },
  {
   "cell_type": "code",
   "execution_count": 28,
   "metadata": {},
   "outputs": [
    {
     "data": {
      "text/html": [
       "<div>\n",
       "<style scoped>\n",
       "    .dataframe tbody tr th:only-of-type {\n",
       "        vertical-align: middle;\n",
       "    }\n",
       "\n",
       "    .dataframe tbody tr th {\n",
       "        vertical-align: top;\n",
       "    }\n",
       "\n",
       "    .dataframe thead th {\n",
       "        text-align: right;\n",
       "    }\n",
       "</style>\n",
       "<table border=\"1\" class=\"dataframe\">\n",
       "  <thead>\n",
       "    <tr style=\"text-align: right;\">\n",
       "      <th></th>\n",
       "      <th>period_ending</th>\n",
       "      <th>cash_and_cash_equivalents</th>\n",
       "      <th>cash_cash_equivalents_and_short_term_investments</th>\n",
       "      <th>gross_accounts_receivable</th>\n",
       "      <th>allowance_for_doubtful_accounts_receivable</th>\n",
       "      <th>accounts_receivable</th>\n",
       "      <th>taxes_receivable</th>\n",
       "      <th>net_receivables</th>\n",
       "      <th>inventories</th>\n",
       "      <th>prepaid_assets</th>\n",
       "      <th>...</th>\n",
       "      <th>total_debt</th>\n",
       "      <th>share_issued</th>\n",
       "      <th>ordinary_shares_number</th>\n",
       "      <th>treasury_shares_number</th>\n",
       "      <th>current_deferred_assets</th>\n",
       "      <th>current_debt</th>\n",
       "      <th>net_debt</th>\n",
       "      <th>land_and_improvements</th>\n",
       "      <th>buildings_and_improvements</th>\n",
       "      <th>long_term_debt</th>\n",
       "    </tr>\n",
       "  </thead>\n",
       "  <tbody>\n",
       "    <tr>\n",
       "      <th>0</th>\n",
       "      <td>2024-03-31</td>\n",
       "      <td>75847000.0</td>\n",
       "      <td>75847000.0</td>\n",
       "      <td>10564000.0</td>\n",
       "      <td>-600000.0</td>\n",
       "      <td>9964000.0</td>\n",
       "      <td>10268000.0</td>\n",
       "      <td>20232000.0</td>\n",
       "      <td>599120000.0</td>\n",
       "      <td>23936000.0</td>\n",
       "      <td>...</td>\n",
       "      <td>466757000.0</td>\n",
       "      <td>30572000.0</td>\n",
       "      <td>30344000.0</td>\n",
       "      <td>228000.0</td>\n",
       "      <td>NaN</td>\n",
       "      <td>NaN</td>\n",
       "      <td>NaN</td>\n",
       "      <td>NaN</td>\n",
       "      <td>NaN</td>\n",
       "      <td>NaN</td>\n",
       "    </tr>\n",
       "    <tr>\n",
       "      <th>1</th>\n",
       "      <td>2023-03-31</td>\n",
       "      <td>18193000.0</td>\n",
       "      <td>18193000.0</td>\n",
       "      <td>13545000.0</td>\n",
       "      <td>-400000.0</td>\n",
       "      <td>13145000.0</td>\n",
       "      <td>0.0</td>\n",
       "      <td>13145000.0</td>\n",
       "      <td>589494000.0</td>\n",
       "      <td>37417000.0</td>\n",
       "      <td>...</td>\n",
       "      <td>447719000.0</td>\n",
       "      <td>30072000.0</td>\n",
       "      <td>29880000.0</td>\n",
       "      <td>192000.0</td>\n",
       "      <td>464000.0</td>\n",
       "      <td>66043000.0</td>\n",
       "      <td>47850000.0</td>\n",
       "      <td>NaN</td>\n",
       "      <td>NaN</td>\n",
       "      <td>NaN</td>\n",
       "    </tr>\n",
       "    <tr>\n",
       "      <th>2</th>\n",
       "      <td>2022-03-31</td>\n",
       "      <td>20674000.0</td>\n",
       "      <td>20674000.0</td>\n",
       "      <td>9962000.0</td>\n",
       "      <td>-300000.0</td>\n",
       "      <td>9662000.0</td>\n",
       "      <td>2205000.0</td>\n",
       "      <td>11867000.0</td>\n",
       "      <td>474300000.0</td>\n",
       "      <td>28150000.0</td>\n",
       "      <td>...</td>\n",
       "      <td>306250000.0</td>\n",
       "      <td>29820000.0</td>\n",
       "      <td>29685000.0</td>\n",
       "      <td>135000.0</td>\n",
       "      <td>179000.0</td>\n",
       "      <td>28549000.0</td>\n",
       "      <td>7875000.0</td>\n",
       "      <td>0.0</td>\n",
       "      <td>0.0</td>\n",
       "      <td>NaN</td>\n",
       "    </tr>\n",
       "    <tr>\n",
       "      <th>3</th>\n",
       "      <td>2021-03-31</td>\n",
       "      <td>73148000.0</td>\n",
       "      <td>73148000.0</td>\n",
       "      <td>13071000.0</td>\n",
       "      <td>-300000.0</td>\n",
       "      <td>12771000.0</td>\n",
       "      <td>0.0</td>\n",
       "      <td>12771000.0</td>\n",
       "      <td>275760000.0</td>\n",
       "      <td>9605000.0</td>\n",
       "      <td>...</td>\n",
       "      <td>331017000.0</td>\n",
       "      <td>29348000.0</td>\n",
       "      <td>29252000.0</td>\n",
       "      <td>96000.0</td>\n",
       "      <td>251000.0</td>\n",
       "      <td>NaN</td>\n",
       "      <td>36633000.0</td>\n",
       "      <td>0.0</td>\n",
       "      <td>0.0</td>\n",
       "      <td>109781000.0</td>\n",
       "    </tr>\n",
       "    <tr>\n",
       "      <th>4</th>\n",
       "      <td>2020-03-31</td>\n",
       "      <td>NaN</td>\n",
       "      <td>NaN</td>\n",
       "      <td>NaN</td>\n",
       "      <td>NaN</td>\n",
       "      <td>NaN</td>\n",
       "      <td>NaN</td>\n",
       "      <td>NaN</td>\n",
       "      <td>NaN</td>\n",
       "      <td>NaN</td>\n",
       "      <td>...</td>\n",
       "      <td>NaN</td>\n",
       "      <td>NaN</td>\n",
       "      <td>NaN</td>\n",
       "      <td>NaN</td>\n",
       "      <td>376000.0</td>\n",
       "      <td>129900000.0</td>\n",
       "      <td>169359000.0</td>\n",
       "      <td>0.0</td>\n",
       "      <td>0.0</td>\n",
       "      <td>109022000.0</td>\n",
       "    </tr>\n",
       "  </tbody>\n",
       "</table>\n",
       "<p>5 rows × 74 columns</p>\n",
       "</div>"
      ],
      "text/plain": [
       "  period_ending  cash_and_cash_equivalents  \\\n",
       "0    2024-03-31                 75847000.0   \n",
       "1    2023-03-31                 18193000.0   \n",
       "2    2022-03-31                 20674000.0   \n",
       "3    2021-03-31                 73148000.0   \n",
       "4    2020-03-31                        NaN   \n",
       "\n",
       "   cash_cash_equivalents_and_short_term_investments  \\\n",
       "0                                        75847000.0   \n",
       "1                                        18193000.0   \n",
       "2                                        20674000.0   \n",
       "3                                        73148000.0   \n",
       "4                                               NaN   \n",
       "\n",
       "   gross_accounts_receivable  allowance_for_doubtful_accounts_receivable  \\\n",
       "0                 10564000.0                                   -600000.0   \n",
       "1                 13545000.0                                   -400000.0   \n",
       "2                  9962000.0                                   -300000.0   \n",
       "3                 13071000.0                                   -300000.0   \n",
       "4                        NaN                                         NaN   \n",
       "\n",
       "   accounts_receivable  taxes_receivable  net_receivables  inventories  \\\n",
       "0            9964000.0        10268000.0       20232000.0  599120000.0   \n",
       "1           13145000.0               0.0       13145000.0  589494000.0   \n",
       "2            9662000.0         2205000.0       11867000.0  474300000.0   \n",
       "3           12771000.0               0.0       12771000.0  275760000.0   \n",
       "4                  NaN               NaN              NaN          NaN   \n",
       "\n",
       "   prepaid_assets  ...   total_debt  share_issued  ordinary_shares_number  \\\n",
       "0      23936000.0  ...  466757000.0    30572000.0              30344000.0   \n",
       "1      37417000.0  ...  447719000.0    30072000.0              29880000.0   \n",
       "2      28150000.0  ...  306250000.0    29820000.0              29685000.0   \n",
       "3       9605000.0  ...  331017000.0    29348000.0              29252000.0   \n",
       "4             NaN  ...          NaN           NaN                     NaN   \n",
       "\n",
       "   treasury_shares_number  current_deferred_assets  current_debt     net_debt  \\\n",
       "0                228000.0                      NaN           NaN          NaN   \n",
       "1                192000.0                 464000.0    66043000.0   47850000.0   \n",
       "2                135000.0                 179000.0    28549000.0    7875000.0   \n",
       "3                 96000.0                 251000.0           NaN   36633000.0   \n",
       "4                     NaN                 376000.0   129900000.0  169359000.0   \n",
       "\n",
       "   land_and_improvements  buildings_and_improvements  long_term_debt  \n",
       "0                    NaN                         NaN             NaN  \n",
       "1                    NaN                         NaN             NaN  \n",
       "2                    0.0                         0.0             NaN  \n",
       "3                    0.0                         0.0     109781000.0  \n",
       "4                    0.0                         0.0     109022000.0  \n",
       "\n",
       "[5 rows x 74 columns]"
      ]
     },
     "execution_count": 28,
     "metadata": {},
     "output_type": "execute_result"
    }
   ],
   "source": [
    "#Let's download the balance sheet data for the company\n",
    "ticker = obb.equity.fundamental.balance(symbol=\"BOOT\")\n",
    "ticker"
   ]
  },
  {
   "cell_type": "code",
   "execution_count": 29,
   "metadata": {},
   "outputs": [
    {
     "data": {
      "text/html": [
       "<div>\n",
       "<style scoped>\n",
       "    .dataframe tbody tr th:only-of-type {\n",
       "        vertical-align: middle;\n",
       "    }\n",
       "\n",
       "    .dataframe tbody tr th {\n",
       "        vertical-align: top;\n",
       "    }\n",
       "\n",
       "    .dataframe thead th {\n",
       "        text-align: right;\n",
       "    }\n",
       "</style>\n",
       "<table border=\"1\" class=\"dataframe\">\n",
       "  <thead>\n",
       "    <tr style=\"text-align: right;\">\n",
       "      <th></th>\n",
       "      <th>period_ending</th>\n",
       "      <th>operating_revenue</th>\n",
       "      <th>total_revenue</th>\n",
       "      <th>cost_of_revenue</th>\n",
       "      <th>gross_profit</th>\n",
       "      <th>selling_general_and_admin_expense</th>\n",
       "      <th>operating_expense</th>\n",
       "      <th>operating_income</th>\n",
       "      <th>interest_expense_non_operating</th>\n",
       "      <th>net_non_operating_interest_income_expense</th>\n",
       "      <th>...</th>\n",
       "      <th>interest_expense</th>\n",
       "      <th>net_interest_income</th>\n",
       "      <th>ebit</th>\n",
       "      <th>ebitda</th>\n",
       "      <th>reconciled_cost_of_revenue</th>\n",
       "      <th>reconciled_depreciation</th>\n",
       "      <th>net_income_from_continuing_operation_net_minority_interest</th>\n",
       "      <th>normalized_ebitda</th>\n",
       "      <th>tax_rate_for_calcs</th>\n",
       "      <th>tax_effect_of_unusual_items</th>\n",
       "    </tr>\n",
       "  </thead>\n",
       "  <tbody>\n",
       "    <tr>\n",
       "      <th>0</th>\n",
       "      <td>2024-03-31</td>\n",
       "      <td>1.667009e+09</td>\n",
       "      <td>1.667009e+09</td>\n",
       "      <td>1.052585e+09</td>\n",
       "      <td>614424000.0</td>\n",
       "      <td>416210000.0</td>\n",
       "      <td>416210000.0</td>\n",
       "      <td>198214000.0</td>\n",
       "      <td>2238000.0</td>\n",
       "      <td>-2238000.0</td>\n",
       "      <td>...</td>\n",
       "      <td>2238000.0</td>\n",
       "      <td>-2238000.0</td>\n",
       "      <td>199610000.0</td>\n",
       "      <td>249195000.0</td>\n",
       "      <td>1.052585e+09</td>\n",
       "      <td>49585000.0</td>\n",
       "      <td>146996000.0</td>\n",
       "      <td>249195000.0</td>\n",
       "      <td>0.255</td>\n",
       "      <td>0.0</td>\n",
       "    </tr>\n",
       "    <tr>\n",
       "      <th>1</th>\n",
       "      <td>2023-03-31</td>\n",
       "      <td>1.657615e+09</td>\n",
       "      <td>1.657615e+09</td>\n",
       "      <td>1.047043e+09</td>\n",
       "      <td>610572000.0</td>\n",
       "      <td>378785000.0</td>\n",
       "      <td>378785000.0</td>\n",
       "      <td>231787000.0</td>\n",
       "      <td>5880000.0</td>\n",
       "      <td>-5880000.0</td>\n",
       "      <td>...</td>\n",
       "      <td>5880000.0</td>\n",
       "      <td>-5880000.0</td>\n",
       "      <td>231758000.0</td>\n",
       "      <td>267703000.0</td>\n",
       "      <td>1.047043e+09</td>\n",
       "      <td>35945000.0</td>\n",
       "      <td>170553000.0</td>\n",
       "      <td>267703000.0</td>\n",
       "      <td>0.245</td>\n",
       "      <td>0.0</td>\n",
       "    </tr>\n",
       "    <tr>\n",
       "      <th>2</th>\n",
       "      <td>2022-03-31</td>\n",
       "      <td>1.488256e+09</td>\n",
       "      <td>1.488256e+09</td>\n",
       "      <td>9.131830e+08</td>\n",
       "      <td>575073000.0</td>\n",
       "      <td>316735000.0</td>\n",
       "      <td>316735000.0</td>\n",
       "      <td>258338000.0</td>\n",
       "      <td>5780000.0</td>\n",
       "      <td>-5780000.0</td>\n",
       "      <td>...</td>\n",
       "      <td>5780000.0</td>\n",
       "      <td>-5780000.0</td>\n",
       "      <td>258373000.0</td>\n",
       "      <td>285725000.0</td>\n",
       "      <td>9.131830e+08</td>\n",
       "      <td>27352000.0</td>\n",
       "      <td>192450000.0</td>\n",
       "      <td>285725000.0</td>\n",
       "      <td>0.238</td>\n",
       "      <td>0.0</td>\n",
       "    </tr>\n",
       "    <tr>\n",
       "      <th>3</th>\n",
       "      <td>2021-03-31</td>\n",
       "      <td>8.934910e+08</td>\n",
       "      <td>8.934910e+08</td>\n",
       "      <td>5.986120e+08</td>\n",
       "      <td>294879000.0</td>\n",
       "      <td>208553000.0</td>\n",
       "      <td>208553000.0</td>\n",
       "      <td>86326000.0</td>\n",
       "      <td>9442000.0</td>\n",
       "      <td>-9442000.0</td>\n",
       "      <td>...</td>\n",
       "      <td>9442000.0</td>\n",
       "      <td>-9442000.0</td>\n",
       "      <td>86692000.0</td>\n",
       "      <td>110840000.0</td>\n",
       "      <td>5.986120e+08</td>\n",
       "      <td>24148000.0</td>\n",
       "      <td>59386000.0</td>\n",
       "      <td>110840000.0</td>\n",
       "      <td>0.232</td>\n",
       "      <td>0.0</td>\n",
       "    </tr>\n",
       "  </tbody>\n",
       "</table>\n",
       "<p>4 rows × 37 columns</p>\n",
       "</div>"
      ],
      "text/plain": [
       "  period_ending  operating_revenue  total_revenue  cost_of_revenue  \\\n",
       "0    2024-03-31       1.667009e+09   1.667009e+09     1.052585e+09   \n",
       "1    2023-03-31       1.657615e+09   1.657615e+09     1.047043e+09   \n",
       "2    2022-03-31       1.488256e+09   1.488256e+09     9.131830e+08   \n",
       "3    2021-03-31       8.934910e+08   8.934910e+08     5.986120e+08   \n",
       "\n",
       "   gross_profit  selling_general_and_admin_expense  operating_expense  \\\n",
       "0   614424000.0                        416210000.0        416210000.0   \n",
       "1   610572000.0                        378785000.0        378785000.0   \n",
       "2   575073000.0                        316735000.0        316735000.0   \n",
       "3   294879000.0                        208553000.0        208553000.0   \n",
       "\n",
       "   operating_income  interest_expense_non_operating  \\\n",
       "0       198214000.0                       2238000.0   \n",
       "1       231787000.0                       5880000.0   \n",
       "2       258338000.0                       5780000.0   \n",
       "3        86326000.0                       9442000.0   \n",
       "\n",
       "   net_non_operating_interest_income_expense  ...  interest_expense  \\\n",
       "0                                 -2238000.0  ...         2238000.0   \n",
       "1                                 -5880000.0  ...         5880000.0   \n",
       "2                                 -5780000.0  ...         5780000.0   \n",
       "3                                 -9442000.0  ...         9442000.0   \n",
       "\n",
       "   net_interest_income         ebit       ebitda  reconciled_cost_of_revenue  \\\n",
       "0           -2238000.0  199610000.0  249195000.0                1.052585e+09   \n",
       "1           -5880000.0  231758000.0  267703000.0                1.047043e+09   \n",
       "2           -5780000.0  258373000.0  285725000.0                9.131830e+08   \n",
       "3           -9442000.0   86692000.0  110840000.0                5.986120e+08   \n",
       "\n",
       "   reconciled_depreciation  \\\n",
       "0               49585000.0   \n",
       "1               35945000.0   \n",
       "2               27352000.0   \n",
       "3               24148000.0   \n",
       "\n",
       "   net_income_from_continuing_operation_net_minority_interest  \\\n",
       "0                                        146996000.0            \n",
       "1                                        170553000.0            \n",
       "2                                        192450000.0            \n",
       "3                                         59386000.0            \n",
       "\n",
       "   normalized_ebitda  tax_rate_for_calcs  tax_effect_of_unusual_items  \n",
       "0        249195000.0               0.255                          0.0  \n",
       "1        267703000.0               0.245                          0.0  \n",
       "2        285725000.0               0.238                          0.0  \n",
       "3        110840000.0               0.232                          0.0  \n",
       "\n",
       "[4 rows x 37 columns]"
      ]
     },
     "execution_count": 29,
     "metadata": {},
     "output_type": "execute_result"
    }
   ],
   "source": [
    "#Let's download the income statement data for the company\n",
    "ticker = obb.equity.fundamental.income(symbol=\"BOOT\")\n",
    "ticker"
   ]
  },
  {
   "cell_type": "code",
   "execution_count": 30,
   "metadata": {},
   "outputs": [
    {
     "data": {
      "text/html": [
       "<div>\n",
       "<style scoped>\n",
       "    .dataframe tbody tr th:only-of-type {\n",
       "        vertical-align: middle;\n",
       "    }\n",
       "\n",
       "    .dataframe tbody tr th {\n",
       "        vertical-align: top;\n",
       "    }\n",
       "\n",
       "    .dataframe thead th {\n",
       "        text-align: right;\n",
       "    }\n",
       "</style>\n",
       "<table border=\"1\" class=\"dataframe\">\n",
       "  <thead>\n",
       "    <tr style=\"text-align: right;\">\n",
       "      <th></th>\n",
       "      <th>title</th>\n",
       "      <th>url</th>\n",
       "      <th>symbols</th>\n",
       "      <th>source</th>\n",
       "    </tr>\n",
       "    <tr>\n",
       "      <th>date</th>\n",
       "      <th></th>\n",
       "      <th></th>\n",
       "      <th></th>\n",
       "      <th></th>\n",
       "    </tr>\n",
       "  </thead>\n",
       "  <tbody>\n",
       "    <tr>\n",
       "      <th>2015-11-05 07:55:36-05:00</th>\n",
       "      <td>Factors Moving Markets - Research on Innerwork...</td>\n",
       "      <td>https://money.tmx.com/quote/BOOT/news/69576053</td>\n",
       "      <td>BOOT</td>\n",
       "      <td>ACCESS Newswire via QuoteMedia</td>\n",
       "    </tr>\n",
       "    <tr>\n",
       "      <th>2015-11-10 08:20:30-05:00</th>\n",
       "      <td>The Price Data Tells the Story - Research on W...</td>\n",
       "      <td>https://money.tmx.com/quote/BOOT/news/69697322</td>\n",
       "      <td>BOOT</td>\n",
       "      <td>ACCESS Newswire via QuoteMedia</td>\n",
       "    </tr>\n",
       "    <tr>\n",
       "      <th>2015-11-17 08:06:06-05:00</th>\n",
       "      <td>Moving Ahead of Averages, Technical Review - R...</td>\n",
       "      <td>https://money.tmx.com/quote/BOOT/news/69859684</td>\n",
       "      <td>BOOT</td>\n",
       "      <td>ACCESS Newswire via QuoteMedia</td>\n",
       "    </tr>\n",
       "    <tr>\n",
       "      <th>2015-11-25 08:47:34-05:00</th>\n",
       "      <td>Trading Ahead of Upcoming Developments - Resea...</td>\n",
       "      <td>https://money.tmx.com/quote/BOOT/news/70040803</td>\n",
       "      <td>BOOT</td>\n",
       "      <td>ACCESS Newswire via QuoteMedia</td>\n",
       "    </tr>\n",
       "    <tr>\n",
       "      <th>2017-06-08 08:20:04-04:00</th>\n",
       "      <td>Earnings Highlights and Review: Ross Stores' Q...</td>\n",
       "      <td>https://money.tmx.com/quote/BOOT/news/77633665...</td>\n",
       "      <td>BOOT</td>\n",
       "      <td>ACCESS Newswire via QuoteMedia</td>\n",
       "    </tr>\n",
       "    <tr>\n",
       "      <th>2017-08-01 12:03:25-04:00</th>\n",
       "      <td>Investor Network: Boot Barn Holdings, Inc. to ...</td>\n",
       "      <td>https://money.tmx.com/quote/BOOT/news/53281082...</td>\n",
       "      <td>BOOT</td>\n",
       "      <td>ACCESS Newswire via QuoteMedia</td>\n",
       "    </tr>\n",
       "    <tr>\n",
       "      <th>2024-05-07 16:05:00-04:00</th>\n",
       "      <td>Boot Barn Holdings, Inc. to Report Fourth Quar...</td>\n",
       "      <td>https://money.tmx.com/quote/BOOT/news/55722204...</td>\n",
       "      <td>BOOT</td>\n",
       "      <td>Business Wire via QuoteMedia</td>\n",
       "    </tr>\n",
       "    <tr>\n",
       "      <th>2024-05-14 16:10:00-04:00</th>\n",
       "      <td>Boot Barn Holdings, Inc. Announces Fourth Quar...</td>\n",
       "      <td>https://money.tmx.com/quote/BOOT/news/66785797...</td>\n",
       "      <td>BOOT</td>\n",
       "      <td>Business Wire via QuoteMedia</td>\n",
       "    </tr>\n",
       "    <tr>\n",
       "      <th>2024-05-15 16:05:00-04:00</th>\n",
       "      <td>Boot Barn Holdings, Inc. Announces May and Jun...</td>\n",
       "      <td>https://money.tmx.com/quote/BOOT/news/48598116...</td>\n",
       "      <td>BOOT</td>\n",
       "      <td>Business Wire via QuoteMedia</td>\n",
       "    </tr>\n",
       "    <tr>\n",
       "      <th>2024-07-26 07:30:00-04:00</th>\n",
       "      <td>Boot Barn Holdings, Inc. to Report First Quart...</td>\n",
       "      <td>https://money.tmx.com/quote/BOOT/news/86151737...</td>\n",
       "      <td>BOOT</td>\n",
       "      <td>Business Wire via QuoteMedia</td>\n",
       "    </tr>\n",
       "    <tr>\n",
       "      <th>2024-08-07 16:10:00-04:00</th>\n",
       "      <td>Boot Barn Holdings, Inc. Announces First Quart...</td>\n",
       "      <td>https://money.tmx.com/quote/BOOT/news/68671746...</td>\n",
       "      <td>BOOT</td>\n",
       "      <td>Business Wire via QuoteMedia</td>\n",
       "    </tr>\n",
       "    <tr>\n",
       "      <th>2024-09-09 16:05:00-04:00</th>\n",
       "      <td>Boot Barn Holdings, Inc. Announces Participati...</td>\n",
       "      <td>https://money.tmx.com/quote/BOOT/news/63954823...</td>\n",
       "      <td>BOOT</td>\n",
       "      <td>Business Wire via QuoteMedia</td>\n",
       "    </tr>\n",
       "    <tr>\n",
       "      <th>2024-10-23 18:00:00-04:00</th>\n",
       "      <td>Boot Barn Holdings, Inc. to Report Second Quar...</td>\n",
       "      <td>https://money.tmx.com/quote/BOOT/news/86254988...</td>\n",
       "      <td>BOOT</td>\n",
       "      <td>Business Wire via QuoteMedia</td>\n",
       "    </tr>\n",
       "    <tr>\n",
       "      <th>2024-10-28 16:05:00-04:00</th>\n",
       "      <td>Boot Barn Holdings, Inc. Announces Second Quar...</td>\n",
       "      <td>https://money.tmx.com/quote/BOOT/news/58114002...</td>\n",
       "      <td>BOOT</td>\n",
       "      <td>Business Wire via QuoteMedia</td>\n",
       "    </tr>\n",
       "    <tr>\n",
       "      <th>2024-10-28 16:05:00-04:00</th>\n",
       "      <td>Boot Barn Holdings, Inc. Announces Second Quar...</td>\n",
       "      <td>https://money.tmx.com/quote/BOOT/news/82958325...</td>\n",
       "      <td>BOOT</td>\n",
       "      <td>Business Wire via QuoteMedia</td>\n",
       "    </tr>\n",
       "    <tr>\n",
       "      <th>2025-01-10 17:00:00-05:00</th>\n",
       "      <td>Boot Barn Holdings, Inc. Announces Preliminary...</td>\n",
       "      <td>https://money.tmx.com/quote/BOOT/news/46246741...</td>\n",
       "      <td>BOOT</td>\n",
       "      <td>Business Wire via QuoteMedia</td>\n",
       "    </tr>\n",
       "    <tr>\n",
       "      <th>2025-01-24 16:05:00-05:00</th>\n",
       "      <td>Boot Barn Holdings, Inc. to Report Third Quart...</td>\n",
       "      <td>https://money.tmx.com/quote/BOOT/news/65782323...</td>\n",
       "      <td>BOOT</td>\n",
       "      <td>Business Wire via QuoteMedia</td>\n",
       "    </tr>\n",
       "    <tr>\n",
       "      <th>2025-01-30 16:10:00-05:00</th>\n",
       "      <td>Boot Barn Holdings, Inc. Announces Third Quart...</td>\n",
       "      <td>https://money.tmx.com/quote/BOOT/news/57703199...</td>\n",
       "      <td>BOOT</td>\n",
       "      <td>Business Wire via QuoteMedia</td>\n",
       "    </tr>\n",
       "  </tbody>\n",
       "</table>\n",
       "</div>"
      ],
      "text/plain": [
       "                                                                       title  \\\n",
       "date                                                                           \n",
       "2015-11-05 07:55:36-05:00  Factors Moving Markets - Research on Innerwork...   \n",
       "2015-11-10 08:20:30-05:00  The Price Data Tells the Story - Research on W...   \n",
       "2015-11-17 08:06:06-05:00  Moving Ahead of Averages, Technical Review - R...   \n",
       "2015-11-25 08:47:34-05:00  Trading Ahead of Upcoming Developments - Resea...   \n",
       "2017-06-08 08:20:04-04:00  Earnings Highlights and Review: Ross Stores' Q...   \n",
       "2017-08-01 12:03:25-04:00  Investor Network: Boot Barn Holdings, Inc. to ...   \n",
       "2024-05-07 16:05:00-04:00  Boot Barn Holdings, Inc. to Report Fourth Quar...   \n",
       "2024-05-14 16:10:00-04:00  Boot Barn Holdings, Inc. Announces Fourth Quar...   \n",
       "2024-05-15 16:05:00-04:00  Boot Barn Holdings, Inc. Announces May and Jun...   \n",
       "2024-07-26 07:30:00-04:00  Boot Barn Holdings, Inc. to Report First Quart...   \n",
       "2024-08-07 16:10:00-04:00  Boot Barn Holdings, Inc. Announces First Quart...   \n",
       "2024-09-09 16:05:00-04:00  Boot Barn Holdings, Inc. Announces Participati...   \n",
       "2024-10-23 18:00:00-04:00  Boot Barn Holdings, Inc. to Report Second Quar...   \n",
       "2024-10-28 16:05:00-04:00  Boot Barn Holdings, Inc. Announces Second Quar...   \n",
       "2024-10-28 16:05:00-04:00  Boot Barn Holdings, Inc. Announces Second Quar...   \n",
       "2025-01-10 17:00:00-05:00  Boot Barn Holdings, Inc. Announces Preliminary...   \n",
       "2025-01-24 16:05:00-05:00  Boot Barn Holdings, Inc. to Report Third Quart...   \n",
       "2025-01-30 16:10:00-05:00  Boot Barn Holdings, Inc. Announces Third Quart...   \n",
       "\n",
       "                                                                         url  \\\n",
       "date                                                                           \n",
       "2015-11-05 07:55:36-05:00     https://money.tmx.com/quote/BOOT/news/69576053   \n",
       "2015-11-10 08:20:30-05:00     https://money.tmx.com/quote/BOOT/news/69697322   \n",
       "2015-11-17 08:06:06-05:00     https://money.tmx.com/quote/BOOT/news/69859684   \n",
       "2015-11-25 08:47:34-05:00     https://money.tmx.com/quote/BOOT/news/70040803   \n",
       "2017-06-08 08:20:04-04:00  https://money.tmx.com/quote/BOOT/news/77633665...   \n",
       "2017-08-01 12:03:25-04:00  https://money.tmx.com/quote/BOOT/news/53281082...   \n",
       "2024-05-07 16:05:00-04:00  https://money.tmx.com/quote/BOOT/news/55722204...   \n",
       "2024-05-14 16:10:00-04:00  https://money.tmx.com/quote/BOOT/news/66785797...   \n",
       "2024-05-15 16:05:00-04:00  https://money.tmx.com/quote/BOOT/news/48598116...   \n",
       "2024-07-26 07:30:00-04:00  https://money.tmx.com/quote/BOOT/news/86151737...   \n",
       "2024-08-07 16:10:00-04:00  https://money.tmx.com/quote/BOOT/news/68671746...   \n",
       "2024-09-09 16:05:00-04:00  https://money.tmx.com/quote/BOOT/news/63954823...   \n",
       "2024-10-23 18:00:00-04:00  https://money.tmx.com/quote/BOOT/news/86254988...   \n",
       "2024-10-28 16:05:00-04:00  https://money.tmx.com/quote/BOOT/news/58114002...   \n",
       "2024-10-28 16:05:00-04:00  https://money.tmx.com/quote/BOOT/news/82958325...   \n",
       "2025-01-10 17:00:00-05:00  https://money.tmx.com/quote/BOOT/news/46246741...   \n",
       "2025-01-24 16:05:00-05:00  https://money.tmx.com/quote/BOOT/news/65782323...   \n",
       "2025-01-30 16:10:00-05:00  https://money.tmx.com/quote/BOOT/news/57703199...   \n",
       "\n",
       "                          symbols                          source  \n",
       "date                                                               \n",
       "2015-11-05 07:55:36-05:00    BOOT  ACCESS Newswire via QuoteMedia  \n",
       "2015-11-10 08:20:30-05:00    BOOT  ACCESS Newswire via QuoteMedia  \n",
       "2015-11-17 08:06:06-05:00    BOOT  ACCESS Newswire via QuoteMedia  \n",
       "2015-11-25 08:47:34-05:00    BOOT  ACCESS Newswire via QuoteMedia  \n",
       "2017-06-08 08:20:04-04:00    BOOT  ACCESS Newswire via QuoteMedia  \n",
       "2017-08-01 12:03:25-04:00    BOOT  ACCESS Newswire via QuoteMedia  \n",
       "2024-05-07 16:05:00-04:00    BOOT    Business Wire via QuoteMedia  \n",
       "2024-05-14 16:10:00-04:00    BOOT    Business Wire via QuoteMedia  \n",
       "2024-05-15 16:05:00-04:00    BOOT    Business Wire via QuoteMedia  \n",
       "2024-07-26 07:30:00-04:00    BOOT    Business Wire via QuoteMedia  \n",
       "2024-08-07 16:10:00-04:00    BOOT    Business Wire via QuoteMedia  \n",
       "2024-09-09 16:05:00-04:00    BOOT    Business Wire via QuoteMedia  \n",
       "2024-10-23 18:00:00-04:00    BOOT    Business Wire via QuoteMedia  \n",
       "2024-10-28 16:05:00-04:00    BOOT    Business Wire via QuoteMedia  \n",
       "2024-10-28 16:05:00-04:00    BOOT    Business Wire via QuoteMedia  \n",
       "2025-01-10 17:00:00-05:00    BOOT    Business Wire via QuoteMedia  \n",
       "2025-01-24 16:05:00-05:00    BOOT    Business Wire via QuoteMedia  \n",
       "2025-01-30 16:10:00-05:00    BOOT    Business Wire via QuoteMedia  "
      ]
     },
     "execution_count": 30,
     "metadata": {},
     "output_type": "execute_result"
    }
   ],
   "source": [
    "#Let's download the news data for the company\n",
    "news = obb.news.company(symbol=\"BOOT\")\n",
    "news"
   ]
  },
  {
   "cell_type": "code",
   "execution_count": 31,
   "metadata": {},
   "outputs": [
    {
     "data": {
      "text/html": [
       "<div>\n",
       "<style scoped>\n",
       "    .dataframe tbody tr th:only-of-type {\n",
       "        vertical-align: middle;\n",
       "    }\n",
       "\n",
       "    .dataframe tbody tr th {\n",
       "        vertical-align: top;\n",
       "    }\n",
       "\n",
       "    .dataframe thead th {\n",
       "        text-align: right;\n",
       "    }\n",
       "</style>\n",
       "<table border=\"1\" class=\"dataframe\">\n",
       "  <thead>\n",
       "    <tr style=\"text-align: right;\">\n",
       "      <th></th>\n",
       "      <th>symbol</th>\n",
       "      <th>market_cap</th>\n",
       "      <th>pe_ratio</th>\n",
       "      <th>foward_pe</th>\n",
       "      <th>eps</th>\n",
       "      <th>price_to_sales</th>\n",
       "      <th>price_to_book</th>\n",
       "      <th>book_value_per_share</th>\n",
       "      <th>price_to_cash</th>\n",
       "      <th>cash_per_share</th>\n",
       "      <th>...</th>\n",
       "      <th>long_term_debt_to_equity</th>\n",
       "      <th>quick_ratio</th>\n",
       "      <th>current_ratio</th>\n",
       "      <th>gross_margin</th>\n",
       "      <th>profit_margin</th>\n",
       "      <th>operating_margin</th>\n",
       "      <th>return_on_assets</th>\n",
       "      <th>return_on_investment</th>\n",
       "      <th>return_on_equity</th>\n",
       "      <th>payout_ratio</th>\n",
       "    </tr>\n",
       "  </thead>\n",
       "  <tbody>\n",
       "    <tr>\n",
       "      <th>0</th>\n",
       "      <td>BOOT</td>\n",
       "      <td>4.320000e+09</td>\n",
       "      <td>25.22</td>\n",
       "      <td>20.55</td>\n",
       "      <td>5.6</td>\n",
       "      <td>2.34</td>\n",
       "      <td>3.96</td>\n",
       "      <td>35.65</td>\n",
       "      <td>28.27</td>\n",
       "      <td>5.0</td>\n",
       "      <td>...</td>\n",
       "      <td>0.43</td>\n",
       "      <td>0.51</td>\n",
       "      <td>2.19</td>\n",
       "      <td>0.3727</td>\n",
       "      <td>0.0936</td>\n",
       "      <td>0.1235</td>\n",
       "      <td>0.0938</td>\n",
       "      <td>0.1107</td>\n",
       "      <td>0.1727</td>\n",
       "      <td>0.0</td>\n",
       "    </tr>\n",
       "  </tbody>\n",
       "</table>\n",
       "<p>1 rows × 22 columns</p>\n",
       "</div>"
      ],
      "text/plain": [
       "  symbol    market_cap  pe_ratio  foward_pe  eps  price_to_sales  \\\n",
       "0   BOOT  4.320000e+09     25.22      20.55  5.6            2.34   \n",
       "\n",
       "   price_to_book  book_value_per_share  price_to_cash  cash_per_share  ...  \\\n",
       "0           3.96                 35.65          28.27             5.0  ...   \n",
       "\n",
       "   long_term_debt_to_equity  quick_ratio  current_ratio  gross_margin  \\\n",
       "0                      0.43         0.51           2.19        0.3727   \n",
       "\n",
       "   profit_margin  operating_margin  return_on_assets  return_on_investment  \\\n",
       "0         0.0936            0.1235            0.0938                0.1107   \n",
       "\n",
       "   return_on_equity  payout_ratio  \n",
       "0            0.1727           0.0  \n",
       "\n",
       "[1 rows x 22 columns]"
      ]
     },
     "execution_count": 31,
     "metadata": {},
     "output_type": "execute_result"
    }
   ],
   "source": [
    "#Let's download the metrics data for the company\n",
    "metrics = obb.equity.fundamental.metrics(symbol=\"BOOT\",period=\"annual\")\n",
    "metrics"
   ]
  },
  {
   "cell_type": "code",
   "execution_count": 32,
   "metadata": {},
   "outputs": [
    {
     "data": {
      "text/html": [
       "<div>\n",
       "<style scoped>\n",
       "    .dataframe tbody tr th:only-of-type {\n",
       "        vertical-align: middle;\n",
       "    }\n",
       "\n",
       "    .dataframe tbody tr th {\n",
       "        vertical-align: top;\n",
       "    }\n",
       "\n",
       "    .dataframe thead th {\n",
       "        text-align: right;\n",
       "    }\n",
       "</style>\n",
       "<table border=\"1\" class=\"dataframe\">\n",
       "  <thead>\n",
       "    <tr style=\"text-align: right;\">\n",
       "      <th></th>\n",
       "      <th>symbol</th>\n",
       "      <th>market_cap</th>\n",
       "      <th>pe_ratio</th>\n",
       "      <th>foward_pe</th>\n",
       "      <th>eps</th>\n",
       "      <th>price_to_sales</th>\n",
       "      <th>price_to_book</th>\n",
       "      <th>book_value_per_share</th>\n",
       "      <th>price_to_cash</th>\n",
       "      <th>cash_per_share</th>\n",
       "      <th>...</th>\n",
       "      <th>long_term_debt_to_equity</th>\n",
       "      <th>quick_ratio</th>\n",
       "      <th>current_ratio</th>\n",
       "      <th>gross_margin</th>\n",
       "      <th>profit_margin</th>\n",
       "      <th>operating_margin</th>\n",
       "      <th>return_on_assets</th>\n",
       "      <th>return_on_investment</th>\n",
       "      <th>return_on_equity</th>\n",
       "      <th>payout_ratio</th>\n",
       "    </tr>\n",
       "  </thead>\n",
       "  <tbody>\n",
       "    <tr>\n",
       "      <th>0</th>\n",
       "      <td>AAPL</td>\n",
       "      <td>3.503450e+12</td>\n",
       "      <td>37.01</td>\n",
       "      <td>28.40</td>\n",
       "      <td>6.30</td>\n",
       "      <td>8.85</td>\n",
       "      <td>52.55</td>\n",
       "      <td>4.44</td>\n",
       "      <td>65.15</td>\n",
       "      <td>3.58</td>\n",
       "      <td>...</td>\n",
       "      <td>1.26</td>\n",
       "      <td>0.88</td>\n",
       "      <td>0.92</td>\n",
       "      <td>0.4652</td>\n",
       "      <td>0.2430</td>\n",
       "      <td>0.3176</td>\n",
       "      <td>0.2757</td>\n",
       "      <td>0.6380</td>\n",
       "      <td>1.3652</td>\n",
       "      <td>0.1611</td>\n",
       "    </tr>\n",
       "    <tr>\n",
       "      <th>1</th>\n",
       "      <td>MSFT</td>\n",
       "      <td>3.091200e+12</td>\n",
       "      <td>33.49</td>\n",
       "      <td>27.59</td>\n",
       "      <td>12.42</td>\n",
       "      <td>11.81</td>\n",
       "      <td>10.21</td>\n",
       "      <td>40.71</td>\n",
       "      <td>43.20</td>\n",
       "      <td>9.63</td>\n",
       "      <td>...</td>\n",
       "      <td>0.30</td>\n",
       "      <td>1.34</td>\n",
       "      <td>1.35</td>\n",
       "      <td>0.6941</td>\n",
       "      <td>0.3543</td>\n",
       "      <td>0.4496</td>\n",
       "      <td>0.1847</td>\n",
       "      <td>0.2360</td>\n",
       "      <td>0.3429</td>\n",
       "      <td>0.2542</td>\n",
       "    </tr>\n",
       "    <tr>\n",
       "      <th>2</th>\n",
       "      <td>TSLA</td>\n",
       "      <td>1.204010e+12</td>\n",
       "      <td>183.64</td>\n",
       "      <td>99.36</td>\n",
       "      <td>2.04</td>\n",
       "      <td>12.32</td>\n",
       "      <td>16.51</td>\n",
       "      <td>22.67</td>\n",
       "      <td>32.49</td>\n",
       "      <td>11.52</td>\n",
       "      <td>...</td>\n",
       "      <td>0.14</td>\n",
       "      <td>1.61</td>\n",
       "      <td>2.02</td>\n",
       "      <td>0.1786</td>\n",
       "      <td>0.0730</td>\n",
       "      <td>0.0794</td>\n",
       "      <td>0.0624</td>\n",
       "      <td>0.0856</td>\n",
       "      <td>0.1052</td>\n",
       "      <td>0.0000</td>\n",
       "    </tr>\n",
       "  </tbody>\n",
       "</table>\n",
       "<p>3 rows × 22 columns</p>\n",
       "</div>"
      ],
      "text/plain": [
       "  symbol    market_cap  pe_ratio  foward_pe    eps  price_to_sales  \\\n",
       "0   AAPL  3.503450e+12     37.01      28.40   6.30            8.85   \n",
       "1   MSFT  3.091200e+12     33.49      27.59  12.42           11.81   \n",
       "2   TSLA  1.204010e+12    183.64      99.36   2.04           12.32   \n",
       "\n",
       "   price_to_book  book_value_per_share  price_to_cash  cash_per_share  ...  \\\n",
       "0          52.55                  4.44          65.15            3.58  ...   \n",
       "1          10.21                 40.71          43.20            9.63  ...   \n",
       "2          16.51                 22.67          32.49           11.52  ...   \n",
       "\n",
       "   long_term_debt_to_equity  quick_ratio  current_ratio  gross_margin  \\\n",
       "0                      1.26         0.88           0.92        0.4652   \n",
       "1                      0.30         1.34           1.35        0.6941   \n",
       "2                      0.14         1.61           2.02        0.1786   \n",
       "\n",
       "   profit_margin  operating_margin  return_on_assets  return_on_investment  \\\n",
       "0         0.2430            0.3176            0.2757                0.6380   \n",
       "1         0.3543            0.4496            0.1847                0.2360   \n",
       "2         0.0730            0.0794            0.0624                0.0856   \n",
       "\n",
       "   return_on_equity  payout_ratio  \n",
       "0            1.3652        0.1611  \n",
       "1            0.3429        0.2542  \n",
       "2            0.1052        0.0000  \n",
       "\n",
       "[3 rows x 22 columns]"
      ]
     },
     "execution_count": 32,
     "metadata": {},
     "output_type": "execute_result"
    }
   ],
   "source": [
    "#Let's download the metrics data for the company\n",
    "metrics = obb.equity.fundamental.metrics(\"AAPL, MSFT, TSLA\",\n",
    "                                           provider = \"finviz\"\n",
    "                                          )\n",
    "metrics"
   ]
  },
  {
   "cell_type": "code",
   "execution_count": 33,
   "metadata": {},
   "outputs": [
    {
     "name": "stderr",
     "output_type": "stream",
     "text": [
      "/var/folders/_b/93bl84d17sg71ckcmxm2jrmw0000gn/T/ipykernel_74955/1608591336.py:5: FutureWarning:\n",
      "\n",
      "DataFrame.applymap has been deprecated. Use DataFrame.map instead.\n",
      "\n"
     ]
    },
    {
     "data": {
      "text/html": [
       "<div>\n",
       "<style scoped>\n",
       "    .dataframe tbody tr th:only-of-type {\n",
       "        vertical-align: middle;\n",
       "    }\n",
       "\n",
       "    .dataframe tbody tr th {\n",
       "        vertical-align: top;\n",
       "    }\n",
       "\n",
       "    .dataframe thead th {\n",
       "        text-align: right;\n",
       "    }\n",
       "</style>\n",
       "<table border=\"1\" class=\"dataframe\">\n",
       "  <thead>\n",
       "    <tr style=\"text-align: right;\">\n",
       "      <th>symbol</th>\n",
       "      <th>AAPL</th>\n",
       "      <th>MSFT</th>\n",
       "      <th>TSLA</th>\n",
       "    </tr>\n",
       "  </thead>\n",
       "  <tbody>\n",
       "    <tr>\n",
       "      <th>market_cap</th>\n",
       "      <td>3,503,450,000,000.000</td>\n",
       "      <td>3,091,200,000,000.000</td>\n",
       "      <td>1,204,010,000,000.000</td>\n",
       "    </tr>\n",
       "    <tr>\n",
       "      <th>pe_ratio</th>\n",
       "      <td>37.010</td>\n",
       "      <td>33.490</td>\n",
       "      <td>183.640</td>\n",
       "    </tr>\n",
       "    <tr>\n",
       "      <th>foward_pe</th>\n",
       "      <td>28.400</td>\n",
       "      <td>27.590</td>\n",
       "      <td>99.360</td>\n",
       "    </tr>\n",
       "    <tr>\n",
       "      <th>eps</th>\n",
       "      <td>6.300</td>\n",
       "      <td>12.420</td>\n",
       "      <td>2.040</td>\n",
       "    </tr>\n",
       "    <tr>\n",
       "      <th>price_to_sales</th>\n",
       "      <td>8.850</td>\n",
       "      <td>11.810</td>\n",
       "      <td>12.320</td>\n",
       "    </tr>\n",
       "    <tr>\n",
       "      <th>price_to_book</th>\n",
       "      <td>52.550</td>\n",
       "      <td>10.210</td>\n",
       "      <td>16.510</td>\n",
       "    </tr>\n",
       "    <tr>\n",
       "      <th>book_value_per_share</th>\n",
       "      <td>4.440</td>\n",
       "      <td>40.710</td>\n",
       "      <td>22.670</td>\n",
       "    </tr>\n",
       "    <tr>\n",
       "      <th>price_to_cash</th>\n",
       "      <td>65.150</td>\n",
       "      <td>43.200</td>\n",
       "      <td>32.490</td>\n",
       "    </tr>\n",
       "    <tr>\n",
       "      <th>cash_per_share</th>\n",
       "      <td>3.580</td>\n",
       "      <td>9.630</td>\n",
       "      <td>11.520</td>\n",
       "    </tr>\n",
       "    <tr>\n",
       "      <th>price_to_free_cash_flow</th>\n",
       "      <td>35.640</td>\n",
       "      <td>44.140</td>\n",
       "      <td>336.220</td>\n",
       "    </tr>\n",
       "    <tr>\n",
       "      <th>debt_to_equity</th>\n",
       "      <td>1.450</td>\n",
       "      <td>0.340</td>\n",
       "      <td>0.190</td>\n",
       "    </tr>\n",
       "    <tr>\n",
       "      <th>long_term_debt_to_equity</th>\n",
       "      <td>1.260</td>\n",
       "      <td>0.300</td>\n",
       "      <td>0.140</td>\n",
       "    </tr>\n",
       "    <tr>\n",
       "      <th>quick_ratio</th>\n",
       "      <td>0.880</td>\n",
       "      <td>1.340</td>\n",
       "      <td>1.610</td>\n",
       "    </tr>\n",
       "    <tr>\n",
       "      <th>current_ratio</th>\n",
       "      <td>0.920</td>\n",
       "      <td>1.350</td>\n",
       "      <td>2.020</td>\n",
       "    </tr>\n",
       "    <tr>\n",
       "      <th>gross_margin</th>\n",
       "      <td>0.465</td>\n",
       "      <td>0.694</td>\n",
       "      <td>0.179</td>\n",
       "    </tr>\n",
       "    <tr>\n",
       "      <th>profit_margin</th>\n",
       "      <td>0.243</td>\n",
       "      <td>0.354</td>\n",
       "      <td>0.073</td>\n",
       "    </tr>\n",
       "    <tr>\n",
       "      <th>operating_margin</th>\n",
       "      <td>0.318</td>\n",
       "      <td>0.450</td>\n",
       "      <td>0.079</td>\n",
       "    </tr>\n",
       "    <tr>\n",
       "      <th>return_on_assets</th>\n",
       "      <td>0.276</td>\n",
       "      <td>0.185</td>\n",
       "      <td>0.062</td>\n",
       "    </tr>\n",
       "    <tr>\n",
       "      <th>return_on_investment</th>\n",
       "      <td>0.638</td>\n",
       "      <td>0.236</td>\n",
       "      <td>0.086</td>\n",
       "    </tr>\n",
       "    <tr>\n",
       "      <th>return_on_equity</th>\n",
       "      <td>1.365</td>\n",
       "      <td>0.343</td>\n",
       "      <td>0.105</td>\n",
       "    </tr>\n",
       "    <tr>\n",
       "      <th>payout_ratio</th>\n",
       "      <td>0.161</td>\n",
       "      <td>0.254</td>\n",
       "      <td>0.000</td>\n",
       "    </tr>\n",
       "  </tbody>\n",
       "</table>\n",
       "</div>"
      ],
      "text/plain": [
       "symbol                                     AAPL                   MSFT  \\\n",
       "market_cap                3,503,450,000,000.000  3,091,200,000,000.000   \n",
       "pe_ratio                                 37.010                 33.490   \n",
       "foward_pe                                28.400                 27.590   \n",
       "eps                                       6.300                 12.420   \n",
       "price_to_sales                            8.850                 11.810   \n",
       "price_to_book                            52.550                 10.210   \n",
       "book_value_per_share                      4.440                 40.710   \n",
       "price_to_cash                            65.150                 43.200   \n",
       "cash_per_share                            3.580                  9.630   \n",
       "price_to_free_cash_flow                  35.640                 44.140   \n",
       "debt_to_equity                            1.450                  0.340   \n",
       "long_term_debt_to_equity                  1.260                  0.300   \n",
       "quick_ratio                               0.880                  1.340   \n",
       "current_ratio                             0.920                  1.350   \n",
       "gross_margin                              0.465                  0.694   \n",
       "profit_margin                             0.243                  0.354   \n",
       "operating_margin                          0.318                  0.450   \n",
       "return_on_assets                          0.276                  0.185   \n",
       "return_on_investment                      0.638                  0.236   \n",
       "return_on_equity                          1.365                  0.343   \n",
       "payout_ratio                              0.161                  0.254   \n",
       "\n",
       "symbol                                     TSLA  \n",
       "market_cap                1,204,010,000,000.000  \n",
       "pe_ratio                                183.640  \n",
       "foward_pe                                99.360  \n",
       "eps                                       2.040  \n",
       "price_to_sales                           12.320  \n",
       "price_to_book                            16.510  \n",
       "book_value_per_share                     22.670  \n",
       "price_to_cash                            32.490  \n",
       "cash_per_share                           11.520  \n",
       "price_to_free_cash_flow                 336.220  \n",
       "debt_to_equity                            0.190  \n",
       "long_term_debt_to_equity                  0.140  \n",
       "quick_ratio                               1.610  \n",
       "current_ratio                             2.020  \n",
       "gross_margin                              0.179  \n",
       "profit_margin                             0.073  \n",
       "operating_margin                          0.079  \n",
       "return_on_assets                          0.062  \n",
       "return_on_investment                      0.086  \n",
       "return_on_equity                          0.105  \n",
       "payout_ratio                              0.000  "
      ]
     },
     "execution_count": 33,
     "metadata": {},
     "output_type": "execute_result"
    }
   ],
   "source": [
    "# Transpose the DataFrame and apply formatting to avoid scientific notation\n",
    "metrics_transposed = metrics.set_index(\"symbol\").T\n",
    "\n",
    "# Use the 'applymap' function to format each cell as a readable number with three decimal places\n",
    "metrics_transposed = metrics_transposed.applymap(lambda x: f\"{x:,.3f}\")\n",
    "\n",
    "# Display the result\n",
    "metrics_transposed"
   ]
  },
  {
   "cell_type": "code",
   "execution_count": 34,
   "metadata": {},
   "outputs": [
    {
     "name": "stderr",
     "output_type": "stream",
     "text": [
      "/opt/anaconda3/envs/smu/lib/python3.10/site-packages/openbb_core/app/command_runner.py:139: OpenBBWarning:\n",
      "\n",
      "Parameter 'groups' not found.\n",
      "\n"
     ]
    },
    {
     "data": {
      "text/html": [
       "<div>\n",
       "<style scoped>\n",
       "    .dataframe tbody tr th:only-of-type {\n",
       "        vertical-align: middle;\n",
       "    }\n",
       "\n",
       "    .dataframe tbody tr th {\n",
       "        vertical-align: top;\n",
       "    }\n",
       "\n",
       "    .dataframe thead th {\n",
       "        text-align: right;\n",
       "    }\n",
       "</style>\n",
       "<table border=\"1\" class=\"dataframe\">\n",
       "  <thead>\n",
       "    <tr style=\"text-align: right;\">\n",
       "      <th></th>\n",
       "      <th>name</th>\n",
       "      <th>market_cap</th>\n",
       "      <th>performance_1d</th>\n",
       "      <th>dividend_yield</th>\n",
       "      <th>pe</th>\n",
       "      <th>forward_pe</th>\n",
       "      <th>peg</th>\n",
       "      <th>float_short</th>\n",
       "      <th>volume</th>\n",
       "      <th>Stocks</th>\n",
       "    </tr>\n",
       "  </thead>\n",
       "  <tbody>\n",
       "    <tr>\n",
       "      <th>0</th>\n",
       "      <td>Energy</td>\n",
       "      <td>3522630000000</td>\n",
       "      <td>-0.0130</td>\n",
       "      <td>0.0454</td>\n",
       "      <td>13.17</td>\n",
       "      <td>11.23</td>\n",
       "      <td>2.48</td>\n",
       "      <td>0.0266</td>\n",
       "      <td>595660000</td>\n",
       "      <td>254</td>\n",
       "    </tr>\n",
       "    <tr>\n",
       "      <th>1</th>\n",
       "      <td>Healthcare</td>\n",
       "      <td>8038400000000</td>\n",
       "      <td>-0.0085</td>\n",
       "      <td>0.0163</td>\n",
       "      <td>34.37</td>\n",
       "      <td>17.65</td>\n",
       "      <td>3.56</td>\n",
       "      <td>0.0468</td>\n",
       "      <td>1820000000</td>\n",
       "      <td>1176</td>\n",
       "    </tr>\n",
       "    <tr>\n",
       "      <th>2</th>\n",
       "      <td>Utilities</td>\n",
       "      <td>1638020000000</td>\n",
       "      <td>0.0004</td>\n",
       "      <td>0.0291</td>\n",
       "      <td>20.65</td>\n",
       "      <td>17.23</td>\n",
       "      <td>2.45</td>\n",
       "      <td>0.0221</td>\n",
       "      <td>259380000</td>\n",
       "      <td>110</td>\n",
       "    </tr>\n",
       "    <tr>\n",
       "      <th>3</th>\n",
       "      <td>Industrials</td>\n",
       "      <td>5929310000000</td>\n",
       "      <td>0.0017</td>\n",
       "      <td>0.0131</td>\n",
       "      <td>25.40</td>\n",
       "      <td>20.30</td>\n",
       "      <td>2.45</td>\n",
       "      <td>0.0402</td>\n",
       "      <td>830770000</td>\n",
       "      <td>669</td>\n",
       "    </tr>\n",
       "    <tr>\n",
       "      <th>4</th>\n",
       "      <td>Real Estate</td>\n",
       "      <td>1664270000000</td>\n",
       "      <td>0.0036</td>\n",
       "      <td>0.0376</td>\n",
       "      <td>37.44</td>\n",
       "      <td>31.42</td>\n",
       "      <td>21.31</td>\n",
       "      <td>0.0454</td>\n",
       "      <td>294530000</td>\n",
       "      <td>266</td>\n",
       "    </tr>\n",
       "    <tr>\n",
       "      <th>5</th>\n",
       "      <td>Consumer Cyclical</td>\n",
       "      <td>8949310000000</td>\n",
       "      <td>0.0041</td>\n",
       "      <td>0.0076</td>\n",
       "      <td>28.63</td>\n",
       "      <td>22.93</td>\n",
       "      <td>2.71</td>\n",
       "      <td>0.0455</td>\n",
       "      <td>1690000000</td>\n",
       "      <td>568</td>\n",
       "    </tr>\n",
       "    <tr>\n",
       "      <th>6</th>\n",
       "      <td>Communication Services</td>\n",
       "      <td>9311740000000</td>\n",
       "      <td>0.0043</td>\n",
       "      <td>0.0066</td>\n",
       "      <td>36.82</td>\n",
       "      <td>27.37</td>\n",
       "      <td>2.88</td>\n",
       "      <td>0.0240</td>\n",
       "      <td>1020000000</td>\n",
       "      <td>264</td>\n",
       "    </tr>\n",
       "    <tr>\n",
       "      <th>7</th>\n",
       "      <td>Technology</td>\n",
       "      <td>21948310000000</td>\n",
       "      <td>0.0053</td>\n",
       "      <td>0.0064</td>\n",
       "      <td>41.66</td>\n",
       "      <td>26.48</td>\n",
       "      <td>2.77</td>\n",
       "      <td>0.0282</td>\n",
       "      <td>2740000000</td>\n",
       "      <td>776</td>\n",
       "    </tr>\n",
       "    <tr>\n",
       "      <th>8</th>\n",
       "      <td>Basic Materials</td>\n",
       "      <td>2019890000000</td>\n",
       "      <td>0.0079</td>\n",
       "      <td>0.0225</td>\n",
       "      <td>22.81</td>\n",
       "      <td>14.85</td>\n",
       "      <td>2.84</td>\n",
       "      <td>0.0230</td>\n",
       "      <td>616310000</td>\n",
       "      <td>266</td>\n",
       "    </tr>\n",
       "    <tr>\n",
       "      <th>9</th>\n",
       "      <td>Consumer Defensive</td>\n",
       "      <td>4192740000000</td>\n",
       "      <td>0.0079</td>\n",
       "      <td>0.0234</td>\n",
       "      <td>26.25</td>\n",
       "      <td>20.57</td>\n",
       "      <td>3.39</td>\n",
       "      <td>0.0189</td>\n",
       "      <td>457690000</td>\n",
       "      <td>246</td>\n",
       "    </tr>\n",
       "    <tr>\n",
       "      <th>10</th>\n",
       "      <td>Financial</td>\n",
       "      <td>12873280000000</td>\n",
       "      <td>0.0085</td>\n",
       "      <td>0.0185</td>\n",
       "      <td>18.17</td>\n",
       "      <td>15.60</td>\n",
       "      <td>1.66</td>\n",
       "      <td>0.0139</td>\n",
       "      <td>1070000000</td>\n",
       "      <td>915</td>\n",
       "    </tr>\n",
       "  </tbody>\n",
       "</table>\n",
       "</div>"
      ],
      "text/plain": [
       "                      name      market_cap  performance_1d  dividend_yield  \\\n",
       "0                   Energy   3522630000000         -0.0130          0.0454   \n",
       "1               Healthcare   8038400000000         -0.0085          0.0163   \n",
       "2                Utilities   1638020000000          0.0004          0.0291   \n",
       "3              Industrials   5929310000000          0.0017          0.0131   \n",
       "4              Real Estate   1664270000000          0.0036          0.0376   \n",
       "5        Consumer Cyclical   8949310000000          0.0041          0.0076   \n",
       "6   Communication Services   9311740000000          0.0043          0.0066   \n",
       "7               Technology  21948310000000          0.0053          0.0064   \n",
       "8          Basic Materials   2019890000000          0.0079          0.0225   \n",
       "9       Consumer Defensive   4192740000000          0.0079          0.0234   \n",
       "10               Financial  12873280000000          0.0085          0.0185   \n",
       "\n",
       "       pe  forward_pe    peg  float_short      volume Stocks  \n",
       "0   13.17       11.23   2.48       0.0266   595660000    254  \n",
       "1   34.37       17.65   3.56       0.0468  1820000000   1176  \n",
       "2   20.65       17.23   2.45       0.0221   259380000    110  \n",
       "3   25.40       20.30   2.45       0.0402   830770000    669  \n",
       "4   37.44       31.42  21.31       0.0454   294530000    266  \n",
       "5   28.63       22.93   2.71       0.0455  1690000000    568  \n",
       "6   36.82       27.37   2.88       0.0240  1020000000    264  \n",
       "7   41.66       26.48   2.77       0.0282  2740000000    776  \n",
       "8   22.81       14.85   2.84       0.0230   616310000    266  \n",
       "9   26.25       20.57   3.39       0.0189   457690000    246  \n",
       "10  18.17       15.60   1.66       0.0139  1070000000    915  "
      ]
     },
     "execution_count": 34,
     "metadata": {},
     "output_type": "execute_result"
    }
   ],
   "source": [
    "#Let's download the industry data for the company\n",
    "industry = obb.equity.compare.groups(groups = \"sector\",\n",
    "                                     metric= \"overview\",\n",
    "                                     provider = \"finviz\"\n",
    "                                    )\n",
    "industry"
   ]
  },
  {
   "cell_type": "code",
   "execution_count": 35,
   "metadata": {},
   "outputs": [
    {
     "data": {
      "text/plain": [
       "['__class__',\n",
       " '__delattr__',\n",
       " '__dict__',\n",
       " '__dir__',\n",
       " '__doc__',\n",
       " '__eq__',\n",
       " '__format__',\n",
       " '__ge__',\n",
       " '__getattribute__',\n",
       " '__gt__',\n",
       " '__hash__',\n",
       " '__init__',\n",
       " '__init_subclass__',\n",
       " '__le__',\n",
       " '__lt__',\n",
       " '__module__',\n",
       " '__ne__',\n",
       " '__new__',\n",
       " '__reduce__',\n",
       " '__reduce_ex__',\n",
       " '__repr__',\n",
       " '__setattr__',\n",
       " '__sizeof__',\n",
       " '__str__',\n",
       " '__subclasshook__',\n",
       " '__weakref__',\n",
       " '_check_credentials',\n",
       " '_command_runner',\n",
       " '_get_provider',\n",
       " '_run',\n",
       " 'company_facts',\n",
       " 'groups',\n",
       " 'peers']"
      ]
     },
     "execution_count": 35,
     "metadata": {},
     "output_type": "execute_result"
    }
   ],
   "source": [
    "dir(obb.equity.compare)"
   ]
  },
  {
   "cell_type": "code",
   "execution_count": 36,
   "metadata": {},
   "outputs": [
    {
     "name": "stdout",
     "output_type": "stream",
     "text": [
      "Help on method groups in module openbb.package.equity_compare:\n",
      "\n",
      "groups(group: Annotated[Optional[str], OpenBBField(description=\"The group to compare - i.e., 'sector', 'industry', 'country'. Choices vary by provider.\")] = None, metric: Annotated[Optional[str], OpenBBField(description=\"The type of metrics to compare - i.e, 'valuation', 'performance'. Choices vary by provider.\")] = None, provider: Annotated[Optional[Literal['finviz']], OpenBBField(description='The provider to use, by default None. If None, the priority list configured in the settings is used. Default priority: finviz.')] = None, **kwargs) -> openbb_core.app.model.obbject.OBBject method of openbb.package.equity_compare.ROUTER_equity_compare instance\n",
      "    Get company data grouped by sector, industry or country and display either performance or valuation metrics.\n",
      "    \n",
      "    Valuation metrics include price to earnings, price to book, price to sales ratios and price to cash flow.\n",
      "    Performance metrics include the stock price change for different time periods.\n",
      "    \n",
      "    \n",
      "    Parameters\n",
      "    ----------\n",
      "    group : Optional[str]\n",
      "        The group to compare - i.e., 'sector', 'industry', 'country'. Choices vary by provider.\n",
      "    metric : Optional[str]\n",
      "        The type of metrics to compare - i.e, 'valuation', 'performance'. Choices vary by provider.\n",
      "    provider : Optional[Literal['finviz']]\n",
      "        The provider to use, by default None. If None, the priority list configured in the settings is used. Default priority: finviz.\n",
      "    \n",
      "    Returns\n",
      "    -------\n",
      "    OBBject\n",
      "        results : List[CompareGroups]\n",
      "            Serializable results.\n",
      "        provider : Optional[Literal['finviz']]\n",
      "            Provider name.\n",
      "        warnings : Optional[List[Warning_]]\n",
      "            List of warnings.\n",
      "        chart : Optional[Chart]\n",
      "            Chart object.\n",
      "        extra : Dict[str, Any]\n",
      "            Extra info.\n",
      "    \n",
      "    CompareGroups\n",
      "    -------------\n",
      "    name : str\n",
      "        Name or label of the group.\n",
      "    stocks : Optional[int]\n",
      "        The number of stocks in the group. (provider: finviz)\n",
      "    market_cap : Optional[int]\n",
      "        The market cap of the group. (provider: finviz)\n",
      "    performance_1d : Optional[float]\n",
      "        The performance in the last day, as a normalized percent. (provider: finviz)\n",
      "    performance_1w : Optional[float]\n",
      "        The performance in the last week, as a normalized percent. (provider: finviz)\n",
      "    performance_1m : Optional[float]\n",
      "        The performance in the last month, as a normalized percent. (provider: finviz)\n",
      "    performance_3m : Optional[float]\n",
      "        The performance in the last quarter, as a normalized percent. (provider: finviz)\n",
      "    performance_6m : Optional[float]\n",
      "        The performance in the last half year, as a normalized percent. (provider: finviz)\n",
      "    performance_1y : Optional[float]\n",
      "        The performance in the last year, as a normalized percent. (provider: finviz)\n",
      "    performance_ytd : Optional[float]\n",
      "        The performance in the year to date, as a normalized percent. (provider: finviz)\n",
      "    dividend_yield : Optional[float]\n",
      "        The dividend yield of the group, as a normalized percent. (provider: finviz)\n",
      "    pe : Optional[float]\n",
      "        The P/E ratio of the group. (provider: finviz)\n",
      "    forward_pe : Optional[float]\n",
      "        The forward P/E ratio of the group. (provider: finviz)\n",
      "    peg : Optional[float]\n",
      "        The PEG ratio of the group. (provider: finviz)\n",
      "    eps_growth_past_5y : Optional[float]\n",
      "        The EPS growth of the group for the past 5 years, as a normalized percent. (provider: finviz)\n",
      "    eps_growth_next_5y : Optional[float]\n",
      "        The estimated EPS growth of the groupo for the next 5 years, as a normalized percent. (provider: finviz)\n",
      "    sales_growth_past_5y : Optional[float]\n",
      "        The sales growth of the group for the past 5 years, as a normalized percent. (provider: finviz)\n",
      "    float_short : Optional[float]\n",
      "        The percent of the float shorted for the group, as a normalized value. (provider: finviz)\n",
      "    analyst_recommendation : Optional[float]\n",
      "        The analyst consensus, on a scale of 1-5 where 1 is a buy and 5 is a sell. (provider: finviz)\n",
      "    volume : Optional[int]\n",
      "        The trading volume. (provider: finviz)\n",
      "    volume_average : Optional[int]\n",
      "        The 3-month average volume of the group. (provider: finviz)\n",
      "    volume_relative : Optional[float]\n",
      "        The relative volume compared to the 3-month average volume. (provider: finviz)\n",
      "    \n",
      "    Examples\n",
      "    --------\n",
      "    >>> from openbb import obb\n",
      "    >>> obb.equity.compare.groups(provider='finviz')\n",
      "    >>> # Group by sector and analyze valuation.\n",
      "    >>> obb.equity.compare.groups(group='sector', metric='valuation', provider='finviz')\n",
      "    >>> # Group by industry and analyze performance.\n",
      "    >>> obb.equity.compare.groups(group='industry', metric='performance', provider='finviz')\n",
      "    >>> # Group by country and analyze valuation.\n",
      "    >>> obb.equity.compare.groups(group='country', metric='valuation', provider='finviz')\n",
      "\n"
     ]
    }
   ],
   "source": [
    "help(obb.equity.compare.groups)\n"
   ]
  },
  {
   "cell_type": "code",
   "execution_count": 37,
   "metadata": {},
   "outputs": [
    {
     "data": {
      "text/html": [
       "<div>\n",
       "<style scoped>\n",
       "    .dataframe tbody tr th:only-of-type {\n",
       "        vertical-align: middle;\n",
       "    }\n",
       "\n",
       "    .dataframe tbody tr th {\n",
       "        vertical-align: top;\n",
       "    }\n",
       "\n",
       "    .dataframe thead th {\n",
       "        text-align: right;\n",
       "    }\n",
       "</style>\n",
       "<table border=\"1\" class=\"dataframe\">\n",
       "  <thead>\n",
       "    <tr style=\"text-align: right;\">\n",
       "      <th></th>\n",
       "      <th>underlying_symbol</th>\n",
       "      <th>underlying_price</th>\n",
       "      <th>contract_symbol</th>\n",
       "      <th>expiration</th>\n",
       "      <th>dte</th>\n",
       "      <th>strike</th>\n",
       "      <th>option_type</th>\n",
       "      <th>open_interest</th>\n",
       "      <th>volume</th>\n",
       "      <th>theoretical_price</th>\n",
       "      <th>...</th>\n",
       "      <th>low</th>\n",
       "      <th>prev_close</th>\n",
       "      <th>change</th>\n",
       "      <th>change_percent</th>\n",
       "      <th>implied_volatility</th>\n",
       "      <th>delta</th>\n",
       "      <th>gamma</th>\n",
       "      <th>theta</th>\n",
       "      <th>vega</th>\n",
       "      <th>rho</th>\n",
       "    </tr>\n",
       "  </thead>\n",
       "  <tbody>\n",
       "    <tr>\n",
       "      <th>0</th>\n",
       "      <td>SPY</td>\n",
       "      <td>605.68</td>\n",
       "      <td>SPY250206C00510000</td>\n",
       "      <td>2025-02-06</td>\n",
       "      <td>0</td>\n",
       "      <td>510.0</td>\n",
       "      <td>call</td>\n",
       "      <td>8</td>\n",
       "      <td>5</td>\n",
       "      <td>95.0550</td>\n",
       "      <td>...</td>\n",
       "      <td>95.82</td>\n",
       "      <td>93.090000</td>\n",
       "      <td>2.830</td>\n",
       "      <td>0.030401</td>\n",
       "      <td>0.0000</td>\n",
       "      <td>1.0000</td>\n",
       "      <td>0.0000</td>\n",
       "      <td>0.0000</td>\n",
       "      <td>0.0000</td>\n",
       "      <td>0.0000</td>\n",
       "    </tr>\n",
       "    <tr>\n",
       "      <th>1</th>\n",
       "      <td>SPY</td>\n",
       "      <td>605.68</td>\n",
       "      <td>SPY250206P00510000</td>\n",
       "      <td>2025-02-06</td>\n",
       "      <td>0</td>\n",
       "      <td>510.0</td>\n",
       "      <td>put</td>\n",
       "      <td>247</td>\n",
       "      <td>0</td>\n",
       "      <td>0.0000</td>\n",
       "      <td>...</td>\n",
       "      <td>0.00</td>\n",
       "      <td>0.005000</td>\n",
       "      <td>0.000</td>\n",
       "      <td>0.000000</td>\n",
       "      <td>0.0000</td>\n",
       "      <td>0.0000</td>\n",
       "      <td>0.0000</td>\n",
       "      <td>0.0000</td>\n",
       "      <td>0.0000</td>\n",
       "      <td>0.0000</td>\n",
       "    </tr>\n",
       "    <tr>\n",
       "      <th>2</th>\n",
       "      <td>SPY</td>\n",
       "      <td>605.68</td>\n",
       "      <td>SPY250206C00515000</td>\n",
       "      <td>2025-02-06</td>\n",
       "      <td>0</td>\n",
       "      <td>515.0</td>\n",
       "      <td>call</td>\n",
       "      <td>0</td>\n",
       "      <td>0</td>\n",
       "      <td>90.0550</td>\n",
       "      <td>...</td>\n",
       "      <td>0.00</td>\n",
       "      <td>88.094997</td>\n",
       "      <td>0.000</td>\n",
       "      <td>0.000000</td>\n",
       "      <td>0.0000</td>\n",
       "      <td>1.0000</td>\n",
       "      <td>0.0000</td>\n",
       "      <td>0.0000</td>\n",
       "      <td>0.0000</td>\n",
       "      <td>0.0000</td>\n",
       "    </tr>\n",
       "    <tr>\n",
       "      <th>3</th>\n",
       "      <td>SPY</td>\n",
       "      <td>605.68</td>\n",
       "      <td>SPY250206P00515000</td>\n",
       "      <td>2025-02-06</td>\n",
       "      <td>0</td>\n",
       "      <td>515.0</td>\n",
       "      <td>put</td>\n",
       "      <td>102</td>\n",
       "      <td>0</td>\n",
       "      <td>0.0000</td>\n",
       "      <td>...</td>\n",
       "      <td>0.00</td>\n",
       "      <td>0.005000</td>\n",
       "      <td>0.000</td>\n",
       "      <td>0.000000</td>\n",
       "      <td>0.0000</td>\n",
       "      <td>0.0000</td>\n",
       "      <td>0.0000</td>\n",
       "      <td>0.0000</td>\n",
       "      <td>0.0000</td>\n",
       "      <td>0.0000</td>\n",
       "    </tr>\n",
       "    <tr>\n",
       "      <th>4</th>\n",
       "      <td>SPY</td>\n",
       "      <td>605.68</td>\n",
       "      <td>SPY250206C00520000</td>\n",
       "      <td>2025-02-06</td>\n",
       "      <td>0</td>\n",
       "      <td>520.0</td>\n",
       "      <td>call</td>\n",
       "      <td>0</td>\n",
       "      <td>0</td>\n",
       "      <td>85.0550</td>\n",
       "      <td>...</td>\n",
       "      <td>0.00</td>\n",
       "      <td>83.245003</td>\n",
       "      <td>0.000</td>\n",
       "      <td>0.000000</td>\n",
       "      <td>0.0000</td>\n",
       "      <td>1.0000</td>\n",
       "      <td>0.0000</td>\n",
       "      <td>0.0000</td>\n",
       "      <td>0.0000</td>\n",
       "      <td>0.0000</td>\n",
       "    </tr>\n",
       "    <tr>\n",
       "      <th>...</th>\n",
       "      <td>...</td>\n",
       "      <td>...</td>\n",
       "      <td>...</td>\n",
       "      <td>...</td>\n",
       "      <td>...</td>\n",
       "      <td>...</td>\n",
       "      <td>...</td>\n",
       "      <td>...</td>\n",
       "      <td>...</td>\n",
       "      <td>...</td>\n",
       "      <td>...</td>\n",
       "      <td>...</td>\n",
       "      <td>...</td>\n",
       "      <td>...</td>\n",
       "      <td>...</td>\n",
       "      <td>...</td>\n",
       "      <td>...</td>\n",
       "      <td>...</td>\n",
       "      <td>...</td>\n",
       "      <td>...</td>\n",
       "      <td>...</td>\n",
       "    </tr>\n",
       "    <tr>\n",
       "      <th>9325</th>\n",
       "      <td>SPY</td>\n",
       "      <td>605.68</td>\n",
       "      <td>SPY271217P00900000</td>\n",
       "      <td>2027-12-17</td>\n",
       "      <td>1044</td>\n",
       "      <td>900.0</td>\n",
       "      <td>put</td>\n",
       "      <td>0</td>\n",
       "      <td>0</td>\n",
       "      <td>294.9450</td>\n",
       "      <td>...</td>\n",
       "      <td>0.00</td>\n",
       "      <td>296.985001</td>\n",
       "      <td>0.000</td>\n",
       "      <td>0.000000</td>\n",
       "      <td>0.2535</td>\n",
       "      <td>-1.0000</td>\n",
       "      <td>0.0000</td>\n",
       "      <td>-0.0772</td>\n",
       "      <td>0.0000</td>\n",
       "      <td>-0.0001</td>\n",
       "    </tr>\n",
       "    <tr>\n",
       "      <th>9326</th>\n",
       "      <td>SPY</td>\n",
       "      <td>605.68</td>\n",
       "      <td>SPY271217C00905000</td>\n",
       "      <td>2027-12-17</td>\n",
       "      <td>1044</td>\n",
       "      <td>905.0</td>\n",
       "      <td>call</td>\n",
       "      <td>36</td>\n",
       "      <td>0</td>\n",
       "      <td>5.2804</td>\n",
       "      <td>...</td>\n",
       "      <td>0.00</td>\n",
       "      <td>5.055000</td>\n",
       "      <td>0.000</td>\n",
       "      <td>0.000000</td>\n",
       "      <td>0.1253</td>\n",
       "      <td>0.0995</td>\n",
       "      <td>0.0014</td>\n",
       "      <td>-0.0097</td>\n",
       "      <td>1.8529</td>\n",
       "      <td>1.5373</td>\n",
       "    </tr>\n",
       "    <tr>\n",
       "      <th>9327</th>\n",
       "      <td>SPY</td>\n",
       "      <td>605.68</td>\n",
       "      <td>SPY271217P00905000</td>\n",
       "      <td>2027-12-17</td>\n",
       "      <td>1044</td>\n",
       "      <td>905.0</td>\n",
       "      <td>put</td>\n",
       "      <td>0</td>\n",
       "      <td>0</td>\n",
       "      <td>299.9450</td>\n",
       "      <td>...</td>\n",
       "      <td>0.00</td>\n",
       "      <td>301.985001</td>\n",
       "      <td>0.000</td>\n",
       "      <td>0.000000</td>\n",
       "      <td>0.2561</td>\n",
       "      <td>-1.0000</td>\n",
       "      <td>0.0000</td>\n",
       "      <td>-0.0772</td>\n",
       "      <td>0.0000</td>\n",
       "      <td>-0.0001</td>\n",
       "    </tr>\n",
       "    <tr>\n",
       "      <th>9328</th>\n",
       "      <td>SPY</td>\n",
       "      <td>605.68</td>\n",
       "      <td>SPY271217C00910000</td>\n",
       "      <td>2027-12-17</td>\n",
       "      <td>1044</td>\n",
       "      <td>910.0</td>\n",
       "      <td>call</td>\n",
       "      <td>283</td>\n",
       "      <td>70</td>\n",
       "      <td>5.0226</td>\n",
       "      <td>...</td>\n",
       "      <td>4.95</td>\n",
       "      <td>4.785000</td>\n",
       "      <td>0.165</td>\n",
       "      <td>0.034483</td>\n",
       "      <td>0.1253</td>\n",
       "      <td>0.0953</td>\n",
       "      <td>0.0013</td>\n",
       "      <td>-0.0094</td>\n",
       "      <td>1.8001</td>\n",
       "      <td>1.4736</td>\n",
       "    </tr>\n",
       "    <tr>\n",
       "      <th>9329</th>\n",
       "      <td>SPY</td>\n",
       "      <td>605.68</td>\n",
       "      <td>SPY271217P00910000</td>\n",
       "      <td>2027-12-17</td>\n",
       "      <td>1044</td>\n",
       "      <td>910.0</td>\n",
       "      <td>put</td>\n",
       "      <td>0</td>\n",
       "      <td>4</td>\n",
       "      <td>304.9450</td>\n",
       "      <td>...</td>\n",
       "      <td>304.51</td>\n",
       "      <td>306.985001</td>\n",
       "      <td>-2.435</td>\n",
       "      <td>-0.007932</td>\n",
       "      <td>0.2587</td>\n",
       "      <td>-1.0000</td>\n",
       "      <td>0.0000</td>\n",
       "      <td>-0.0772</td>\n",
       "      <td>0.0000</td>\n",
       "      <td>-0.0001</td>\n",
       "    </tr>\n",
       "  </tbody>\n",
       "</table>\n",
       "<p>9330 rows × 29 columns</p>\n",
       "</div>"
      ],
      "text/plain": [
       "     underlying_symbol  underlying_price     contract_symbol  expiration  \\\n",
       "0                  SPY            605.68  SPY250206C00510000  2025-02-06   \n",
       "1                  SPY            605.68  SPY250206P00510000  2025-02-06   \n",
       "2                  SPY            605.68  SPY250206C00515000  2025-02-06   \n",
       "3                  SPY            605.68  SPY250206P00515000  2025-02-06   \n",
       "4                  SPY            605.68  SPY250206C00520000  2025-02-06   \n",
       "...                ...               ...                 ...         ...   \n",
       "9325               SPY            605.68  SPY271217P00900000  2027-12-17   \n",
       "9326               SPY            605.68  SPY271217C00905000  2027-12-17   \n",
       "9327               SPY            605.68  SPY271217P00905000  2027-12-17   \n",
       "9328               SPY            605.68  SPY271217C00910000  2027-12-17   \n",
       "9329               SPY            605.68  SPY271217P00910000  2027-12-17   \n",
       "\n",
       "       dte  strike option_type  open_interest  volume  theoretical_price  ...  \\\n",
       "0        0   510.0        call              8       5            95.0550  ...   \n",
       "1        0   510.0         put            247       0             0.0000  ...   \n",
       "2        0   515.0        call              0       0            90.0550  ...   \n",
       "3        0   515.0         put            102       0             0.0000  ...   \n",
       "4        0   520.0        call              0       0            85.0550  ...   \n",
       "...    ...     ...         ...            ...     ...                ...  ...   \n",
       "9325  1044   900.0         put              0       0           294.9450  ...   \n",
       "9326  1044   905.0        call             36       0             5.2804  ...   \n",
       "9327  1044   905.0         put              0       0           299.9450  ...   \n",
       "9328  1044   910.0        call            283      70             5.0226  ...   \n",
       "9329  1044   910.0         put              0       4           304.9450  ...   \n",
       "\n",
       "         low  prev_close change  change_percent  implied_volatility   delta  \\\n",
       "0      95.82   93.090000  2.830        0.030401              0.0000  1.0000   \n",
       "1       0.00    0.005000  0.000        0.000000              0.0000  0.0000   \n",
       "2       0.00   88.094997  0.000        0.000000              0.0000  1.0000   \n",
       "3       0.00    0.005000  0.000        0.000000              0.0000  0.0000   \n",
       "4       0.00   83.245003  0.000        0.000000              0.0000  1.0000   \n",
       "...      ...         ...    ...             ...                 ...     ...   \n",
       "9325    0.00  296.985001  0.000        0.000000              0.2535 -1.0000   \n",
       "9326    0.00    5.055000  0.000        0.000000              0.1253  0.0995   \n",
       "9327    0.00  301.985001  0.000        0.000000              0.2561 -1.0000   \n",
       "9328    4.95    4.785000  0.165        0.034483              0.1253  0.0953   \n",
       "9329  304.51  306.985001 -2.435       -0.007932              0.2587 -1.0000   \n",
       "\n",
       "       gamma   theta    vega     rho  \n",
       "0     0.0000  0.0000  0.0000  0.0000  \n",
       "1     0.0000  0.0000  0.0000  0.0000  \n",
       "2     0.0000  0.0000  0.0000  0.0000  \n",
       "3     0.0000  0.0000  0.0000  0.0000  \n",
       "4     0.0000  0.0000  0.0000  0.0000  \n",
       "...      ...     ...     ...     ...  \n",
       "9325  0.0000 -0.0772  0.0000 -0.0001  \n",
       "9326  0.0014 -0.0097  1.8529  1.5373  \n",
       "9327  0.0000 -0.0772  0.0000 -0.0001  \n",
       "9328  0.0013 -0.0094  1.8001  1.4736  \n",
       "9329  0.0000 -0.0772  0.0000 -0.0001  \n",
       "\n",
       "[9330 rows x 29 columns]"
      ]
     },
     "execution_count": 37,
     "metadata": {},
     "output_type": "execute_result"
    }
   ],
   "source": [
    "chains = obb.derivatives.options.chains(symbol = \"SPY\")\n",
    "chains"
   ]
  },
  {
   "cell_type": "code",
   "execution_count": 39,
   "metadata": {},
   "outputs": [
    {
     "name": "stderr",
     "output_type": "stream",
     "text": [
      "[*********************100%***********************]  1 of 1 completed\n"
     ]
    },
    {
     "name": "stdout",
     "output_type": "stream",
     "text": [
      "**Financial Information:**\n",
      "Market Cap: 2,346,448,584,704\n",
      "Trailing PE: 23.830847\n",
      "Price to Book: 7.480576\n",
      "Debt to Equity: 9.324\n"
     ]
    },
    {
     "data": {
      "image/png": "[encoded data removed]",
      "text/plain": [
       "<Figure size 1200x600 with 1 Axes>"
      ]
     },
     "metadata": {},
     "output_type": "display_data"
    },
    {
     "data": {
      "image/png": "[encoded data removed]",
      "text/plain": [
       "<Figure size 1200x600 with 1 Axes>"
      ]
     },
     "metadata": {},
     "output_type": "display_data"
    }
   ],
   "source": [
    "import yfinance as yf\n",
    "import matplotlib.pyplot as plt\n",
    "import pandas as pd\n",
    "from datetime import date\n",
    "\n",
    "# Set the ticker symbol\n",
    "ticker = \"GOOGL\"\n",
    "\n",
    "# Download historical data\n",
    "data = yf.download(ticker, period=\"5y\")\n",
    "\n",
    "# --- Fundamental Analysis ---\n",
    "\n",
    "# Get basic financial information\n",
    "financials = yf.Ticker(ticker).info\n",
    "\n",
    "# Print selected financial metrics\n",
    "print(\"**Financial Information:**\")\n",
    "print(f\"Market Cap: {financials['marketCap']:,}\")\n",
    "print(f\"Trailing PE: {financials['trailingPE']}\")\n",
    "print(f\"Price to Book: {financials['priceToBook']}\")\n",
    "print(f\"Debt to Equity: {financials['debtToEquity']}\")\n",
    "\n",
    "# --- Technical Analysis ---\n",
    "\n",
    "# Calculate moving averages\n",
    "data[\"SMA_20\"] = data[\"Close\"].rolling(window=20).mean()\n",
    "data[\"SMA_50\"] = data[\"Close\"].rolling(window=50).mean()\n",
    "\n",
    "# Calculate Relative Strength Index (RSI)\n",
    "delta = data[\"Close\"].diff()\n",
    "gain = delta.where(delta > 0, 0)\n",
    "loss = -delta.where(delta < 0, 0)\n",
    "avg_gain = gain.rolling(window=14).mean()\n",
    "avg_loss = loss.rolling(window=14).mean()\n",
    "rs = avg_gain / avg_loss\n",
    "data[\"RSI\"] = 100 - (100 / (1 + rs))\n",
    "\n",
    "# --- Chart Plotting ---\n",
    "\n",
    "# Plot closing price with moving averages\n",
    "plt.figure(figsize=(12, 6))\n",
    "plt.plot(data[\"Close\"], label=\"Close Price\")\n",
    "plt.plot(data[\"SMA_20\"], label=\"20-Day SMA\")\n",
    "plt.plot(data[\"SMA_50\"], label=\"50-Day SMA\")\n",
    "plt.title(f\"{ticker} Stock Price with Moving Averages\")\n",
    "plt.xlabel(\"Date\")\n",
    "plt.ylabel(\"Price\")\n",
    "plt.legend()\n",
    "\n",
    "# Plot RSI indicator\n",
    "plt.figure(figsize=(12, 6))\n",
    "plt.plot(data[\"RSI\"], label=\"RSI\")\n",
    "plt.axhline(y=30, color=\"r\", linestyle=\"--\", label=\"Overbought\")\n",
    "plt.axhline(y=70, color=\"r\", linestyle=\"--\", label=\"Oversold\")\n",
    "plt.title(f\"{ticker} Relative Strength Index (RSI)\")\n",
    "plt.xlabel(\"Date\")\n",
    "plt.ylabel(\"RSI\")\n",
    "plt.legend()\n",
    "\n",
    "# Display plots\n",
    "plt.show()"
   ]
  },
  {
   "cell_type": "code",
   "execution_count": null,
   "metadata": {},
   "outputs": [],
   "source": []
  }
 ],
 "metadata": {
  "kernelspec": {
   "display_name": "smu",
   "language": "python",
   "name": "python3"
  },
  "language_info": {
   "codemirror_mode": {
    "name": "ipython",
    "version": 3
   },
   "file_extension": ".py",
   "mimetype": "text/x-python",
   "name": "python",
   "nbconvert_exporter": "python",
   "pygments_lexer": "ipython3",
   "version": "3.10.16"
  }
 },
 "nbformat": 4,
 "nbformat_minor": 2
}
